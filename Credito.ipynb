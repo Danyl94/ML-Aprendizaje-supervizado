{
 "cells": [
  {
   "cell_type": "markdown",
   "metadata": {
    "_cell_guid": "f332e7e9-ad0c-4e58-a944-5e67659a683b",
    "_uuid": "52b8c013-70b8-4847-968d-e4c04976bfb1"
   },
   "source": [
    "\n",
    "\n",
    "<p style=\"background-color:romance; color:jaguar; font-size:200%; text-align:center; border-radius:10px 10px; font-family:newtimeroman; line-height: 1.4; text-transform: title;\"><strong>Credit Score Multi-class Classification</strong></p>\n",
    "\n",
    "<p style=\"background-color:romance; color:jaguar; font-size:200%; text-align:center; border-radius:10px 10px; font-family:newtimeroman; line-height: 1.1;\">Project Solution Models: Logistic Regression, Random Forest, XGBoost</p>"
   ]
  },
  {
   "cell_type": "markdown",
   "metadata": {},
   "source": []
  },
  {
   "cell_type": "code",
   "execution_count": 1,
   "metadata": {
    "_cell_guid": "1f258617-945e-4547-82d9-ed7d8815f126",
    "_uuid": "5671bbad-3faa-4b1d-bbe5-f04d73011353",
    "execution": {
     "iopub.execute_input": "2022-09-28T19:08:11.683156Z",
     "iopub.status.busy": "2022-09-28T19:08:11.682781Z",
     "iopub.status.idle": "2022-09-28T19:08:11.692226Z",
     "shell.execute_reply": "2022-09-28T19:08:11.691016Z",
     "shell.execute_reply.started": "2022-09-28T19:08:11.683126Z"
    },
    "jupyter": {
     "outputs_hidden": false
    }
   },
   "outputs": [],
   "source": [
    "# This Python 3 environment comes with many helpful analytics libraries installed\n",
    "# It is defined by the kaggle/python Docker image: https://github.com/kaggle/docker-python\n",
    "# For example, here's several helpful packages to load\n",
    "\n",
    "import numpy as np # linear algebra\n",
    "import pandas as pd # data processing, CSV file I/O (e.g. pd.read_csv)\n",
    "\n",
    "# Input data files are available in the read-only \"../input/\" directory\n",
    "# For example, running this (by clicking run or pressing Shift+Enter) will list all files under the input directory\n",
    "\n",
    "import os\n",
    "for dirname, _, filenames in os.walk('/kaggle/input'):\n",
    "    for filename in filenames:\n",
    "        print(os.path.join(dirname, filename))\n",
    "\n",
    "# You can write up to 20GB to the current directory (/kaggle/working/) that gets preserved as output when you create a version using \"Save & Run All\" \n",
    "# You can also write temporary files to /kaggle/temp/, but they won't be saved outside of the current session"
   ]
  },
  {
   "cell_type": "code",
   "execution_count": 2,
   "metadata": {
    "execution": {
     "iopub.execute_input": "2022-09-28T19:08:11.695175Z",
     "iopub.status.busy": "2022-09-28T19:08:11.694681Z",
     "iopub.status.idle": "2022-09-28T19:08:11.703465Z",
     "shell.execute_reply": "2022-09-28T19:08:11.702082Z",
     "shell.execute_reply.started": "2022-09-28T19:08:11.695138Z"
    }
   },
   "outputs": [],
   "source": [
    "import seaborn as sns\n",
    "import matplotlib.pyplot as plt\n",
    "\n",
    "# The style parameters control properties like the color of the background and whether a grid is enabled by default.\n",
    "sns.set_style(\"whitegrid\", {'axes.grid' : False})\n",
    "# sns.set_style(\"whitegrid\")\n",
    "\n",
    "# Environment settings: \n",
    "pd.set_option('display.float_format', lambda x: f'{x:.3f}')"
   ]
  },
  {
   "cell_type": "code",
   "execution_count": 3,
   "metadata": {
    "_cell_guid": "ac8f72be-9f8f-422b-b60c-81116f3868ff",
    "_uuid": "6aca1c3a-a5e9-4957-9257-348207fab1f7",
    "execution": {
     "iopub.execute_input": "2022-09-28T19:08:11.706869Z",
     "iopub.status.busy": "2022-09-28T19:08:11.705723Z",
     "iopub.status.idle": "2022-09-28T19:08:11.711844Z",
     "shell.execute_reply": "2022-09-28T19:08:11.710734Z",
     "shell.execute_reply.started": "2022-09-28T19:08:11.706831Z"
    },
    "jupyter": {
     "outputs_hidden": false
    }
   },
   "outputs": [],
   "source": [
    "import warnings\n",
    "# Suppressing a warning \n",
    "warnings.filterwarnings(\"ignore\") \n",
    "warnings.warn(\"this will not show\")"
   ]
  },
  {
   "cell_type": "code",
   "execution_count": 4,
   "metadata": {
    "execution": {
     "iopub.execute_input": "2022-09-28T19:08:11.713976Z",
     "iopub.status.busy": "2022-09-28T19:08:11.71326Z",
     "iopub.status.idle": "2022-09-28T19:08:11.719751Z",
     "shell.execute_reply": "2022-09-28T19:08:11.71869Z",
     "shell.execute_reply.started": "2022-09-28T19:08:11.713875Z"
    }
   },
   "outputs": [],
   "source": [
    "# Statistics functions\n",
    "from scipy import stats"
   ]
  },
  {
   "cell_type": "code",
   "execution_count": 5,
   "metadata": {
    "_cell_guid": "eed17339-c843-41c1-94b8-9e0cafb4c69d",
    "_uuid": "4230d894-e2ae-4c63-a1a1-7a1581130990",
    "execution": {
     "iopub.execute_input": "2022-09-28T19:08:11.722913Z",
     "iopub.status.busy": "2022-09-28T19:08:11.721861Z",
     "iopub.status.idle": "2022-09-28T19:08:13.164926Z",
     "shell.execute_reply": "2022-09-28T19:08:13.163903Z",
     "shell.execute_reply.started": "2022-09-28T19:08:11.72288Z"
    },
    "jupyter": {
     "outputs_hidden": false
    }
   },
   "outputs": [
    {
     "ename": "FileNotFoundError",
     "evalue": "[Errno 2] No such file or directory: '../input/credit-score-classification/train.csv'",
     "output_type": "error",
     "traceback": [
      "\u001b[1;31m---------------------------------------------------------------------------\u001b[0m",
      "\u001b[1;31mFileNotFoundError\u001b[0m                         Traceback (most recent call last)",
      "Cell \u001b[1;32mIn[5], line 1\u001b[0m\n\u001b[1;32m----> 1\u001b[0m df_origin_train \u001b[38;5;241m=\u001b[39m \u001b[43mpd\u001b[49m\u001b[38;5;241;43m.\u001b[39;49m\u001b[43mread_csv\u001b[49m\u001b[43m(\u001b[49m\u001b[38;5;124;43m'\u001b[39;49m\u001b[38;5;124;43m../input/credit-score-classification/train.csv\u001b[39;49m\u001b[38;5;124;43m'\u001b[39;49m\u001b[43m)\u001b[49m\n\u001b[0;32m      2\u001b[0m df_train \u001b[38;5;241m=\u001b[39m df_origin_train\u001b[38;5;241m.\u001b[39mcopy()\n\u001b[0;32m      4\u001b[0m df_origin_test \u001b[38;5;241m=\u001b[39m pd\u001b[38;5;241m.\u001b[39mread_csv(\u001b[38;5;124m'\u001b[39m\u001b[38;5;124m../input/credit-score-classification/test.csv\u001b[39m\u001b[38;5;124m'\u001b[39m)\n",
      "File \u001b[1;32m~\\anaconda3\\lib\\site-packages\\pandas\\io\\parsers.py:610\u001b[0m, in \u001b[0;36mread_csv\u001b[1;34m(filepath_or_buffer, sep, delimiter, header, names, index_col, usecols, squeeze, prefix, mangle_dupe_cols, dtype, engine, converters, true_values, false_values, skipinitialspace, skiprows, skipfooter, nrows, na_values, keep_default_na, na_filter, verbose, skip_blank_lines, parse_dates, infer_datetime_format, keep_date_col, date_parser, dayfirst, cache_dates, iterator, chunksize, compression, thousands, decimal, lineterminator, quotechar, quoting, doublequote, escapechar, comment, encoding, dialect, error_bad_lines, warn_bad_lines, delim_whitespace, low_memory, memory_map, float_precision, storage_options)\u001b[0m\n\u001b[0;32m    605\u001b[0m kwds_defaults \u001b[38;5;241m=\u001b[39m _refine_defaults_read(\n\u001b[0;32m    606\u001b[0m     dialect, delimiter, delim_whitespace, engine, sep, defaults\u001b[38;5;241m=\u001b[39m{\u001b[38;5;124m\"\u001b[39m\u001b[38;5;124mdelimiter\u001b[39m\u001b[38;5;124m\"\u001b[39m: \u001b[38;5;124m\"\u001b[39m\u001b[38;5;124m,\u001b[39m\u001b[38;5;124m\"\u001b[39m}\n\u001b[0;32m    607\u001b[0m )\n\u001b[0;32m    608\u001b[0m kwds\u001b[38;5;241m.\u001b[39mupdate(kwds_defaults)\n\u001b[1;32m--> 610\u001b[0m \u001b[38;5;28;01mreturn\u001b[39;00m \u001b[43m_read\u001b[49m\u001b[43m(\u001b[49m\u001b[43mfilepath_or_buffer\u001b[49m\u001b[43m,\u001b[49m\u001b[43m \u001b[49m\u001b[43mkwds\u001b[49m\u001b[43m)\u001b[49m\n",
      "File \u001b[1;32m~\\anaconda3\\lib\\site-packages\\pandas\\io\\parsers.py:462\u001b[0m, in \u001b[0;36m_read\u001b[1;34m(filepath_or_buffer, kwds)\u001b[0m\n\u001b[0;32m    459\u001b[0m _validate_names(kwds\u001b[38;5;241m.\u001b[39mget(\u001b[38;5;124m\"\u001b[39m\u001b[38;5;124mnames\u001b[39m\u001b[38;5;124m\"\u001b[39m, \u001b[38;5;28;01mNone\u001b[39;00m))\n\u001b[0;32m    461\u001b[0m \u001b[38;5;66;03m# Create the parser.\u001b[39;00m\n\u001b[1;32m--> 462\u001b[0m parser \u001b[38;5;241m=\u001b[39m TextFileReader(filepath_or_buffer, \u001b[38;5;241m*\u001b[39m\u001b[38;5;241m*\u001b[39mkwds)\n\u001b[0;32m    464\u001b[0m \u001b[38;5;28;01mif\u001b[39;00m chunksize \u001b[38;5;129;01mor\u001b[39;00m iterator:\n\u001b[0;32m    465\u001b[0m     \u001b[38;5;28;01mreturn\u001b[39;00m parser\n",
      "File \u001b[1;32m~\\anaconda3\\lib\\site-packages\\pandas\\io\\parsers.py:819\u001b[0m, in \u001b[0;36mTextFileReader.__init__\u001b[1;34m(self, f, engine, **kwds)\u001b[0m\n\u001b[0;32m    816\u001b[0m \u001b[38;5;28;01mif\u001b[39;00m \u001b[38;5;124m\"\u001b[39m\u001b[38;5;124mhas_index_names\u001b[39m\u001b[38;5;124m\"\u001b[39m \u001b[38;5;129;01min\u001b[39;00m kwds:\n\u001b[0;32m    817\u001b[0m     \u001b[38;5;28mself\u001b[39m\u001b[38;5;241m.\u001b[39moptions[\u001b[38;5;124m\"\u001b[39m\u001b[38;5;124mhas_index_names\u001b[39m\u001b[38;5;124m\"\u001b[39m] \u001b[38;5;241m=\u001b[39m kwds[\u001b[38;5;124m\"\u001b[39m\u001b[38;5;124mhas_index_names\u001b[39m\u001b[38;5;124m\"\u001b[39m]\n\u001b[1;32m--> 819\u001b[0m \u001b[38;5;28mself\u001b[39m\u001b[38;5;241m.\u001b[39m_engine \u001b[38;5;241m=\u001b[39m \u001b[38;5;28;43mself\u001b[39;49m\u001b[38;5;241;43m.\u001b[39;49m\u001b[43m_make_engine\u001b[49m\u001b[43m(\u001b[49m\u001b[38;5;28;43mself\u001b[39;49m\u001b[38;5;241;43m.\u001b[39;49m\u001b[43mengine\u001b[49m\u001b[43m)\u001b[49m\n",
      "File \u001b[1;32m~\\anaconda3\\lib\\site-packages\\pandas\\io\\parsers.py:1050\u001b[0m, in \u001b[0;36mTextFileReader._make_engine\u001b[1;34m(self, engine)\u001b[0m\n\u001b[0;32m   1046\u001b[0m     \u001b[38;5;28;01mraise\u001b[39;00m \u001b[38;5;167;01mValueError\u001b[39;00m(\n\u001b[0;32m   1047\u001b[0m         \u001b[38;5;124mf\u001b[39m\u001b[38;5;124m\"\u001b[39m\u001b[38;5;124mUnknown engine: \u001b[39m\u001b[38;5;132;01m{\u001b[39;00mengine\u001b[38;5;132;01m}\u001b[39;00m\u001b[38;5;124m (valid options are \u001b[39m\u001b[38;5;132;01m{\u001b[39;00mmapping\u001b[38;5;241m.\u001b[39mkeys()\u001b[38;5;132;01m}\u001b[39;00m\u001b[38;5;124m)\u001b[39m\u001b[38;5;124m\"\u001b[39m\n\u001b[0;32m   1048\u001b[0m     )\n\u001b[0;32m   1049\u001b[0m \u001b[38;5;66;03m# error: Too many arguments for \"ParserBase\"\u001b[39;00m\n\u001b[1;32m-> 1050\u001b[0m \u001b[38;5;28;01mreturn\u001b[39;00m mapping[engine](\u001b[38;5;28mself\u001b[39m\u001b[38;5;241m.\u001b[39mf, \u001b[38;5;241m*\u001b[39m\u001b[38;5;241m*\u001b[39m\u001b[38;5;28mself\u001b[39m\u001b[38;5;241m.\u001b[39moptions)\n",
      "File \u001b[1;32m~\\anaconda3\\lib\\site-packages\\pandas\\io\\parsers.py:1867\u001b[0m, in \u001b[0;36mCParserWrapper.__init__\u001b[1;34m(self, src, **kwds)\u001b[0m\n\u001b[0;32m   1864\u001b[0m kwds[\u001b[38;5;124m\"\u001b[39m\u001b[38;5;124musecols\u001b[39m\u001b[38;5;124m\"\u001b[39m] \u001b[38;5;241m=\u001b[39m \u001b[38;5;28mself\u001b[39m\u001b[38;5;241m.\u001b[39musecols\n\u001b[0;32m   1866\u001b[0m \u001b[38;5;66;03m# open handles\u001b[39;00m\n\u001b[1;32m-> 1867\u001b[0m \u001b[38;5;28;43mself\u001b[39;49m\u001b[38;5;241;43m.\u001b[39;49m\u001b[43m_open_handles\u001b[49m\u001b[43m(\u001b[49m\u001b[43msrc\u001b[49m\u001b[43m,\u001b[49m\u001b[43m \u001b[49m\u001b[43mkwds\u001b[49m\u001b[43m)\u001b[49m\n\u001b[0;32m   1868\u001b[0m \u001b[38;5;28;01massert\u001b[39;00m \u001b[38;5;28mself\u001b[39m\u001b[38;5;241m.\u001b[39mhandles \u001b[38;5;129;01mis\u001b[39;00m \u001b[38;5;129;01mnot\u001b[39;00m \u001b[38;5;28;01mNone\u001b[39;00m\n\u001b[0;32m   1869\u001b[0m \u001b[38;5;28;01mfor\u001b[39;00m key \u001b[38;5;129;01min\u001b[39;00m (\u001b[38;5;124m\"\u001b[39m\u001b[38;5;124mstorage_options\u001b[39m\u001b[38;5;124m\"\u001b[39m, \u001b[38;5;124m\"\u001b[39m\u001b[38;5;124mencoding\u001b[39m\u001b[38;5;124m\"\u001b[39m, \u001b[38;5;124m\"\u001b[39m\u001b[38;5;124mmemory_map\u001b[39m\u001b[38;5;124m\"\u001b[39m, \u001b[38;5;124m\"\u001b[39m\u001b[38;5;124mcompression\u001b[39m\u001b[38;5;124m\"\u001b[39m):\n",
      "File \u001b[1;32m~\\anaconda3\\lib\\site-packages\\pandas\\io\\parsers.py:1362\u001b[0m, in \u001b[0;36mParserBase._open_handles\u001b[1;34m(self, src, kwds)\u001b[0m\n\u001b[0;32m   1358\u001b[0m \u001b[38;5;28;01mdef\u001b[39;00m \u001b[38;5;21m_open_handles\u001b[39m(\u001b[38;5;28mself\u001b[39m, src: FilePathOrBuffer, kwds: Dict[\u001b[38;5;28mstr\u001b[39m, Any]) \u001b[38;5;241m-\u001b[39m\u001b[38;5;241m>\u001b[39m \u001b[38;5;28;01mNone\u001b[39;00m:\n\u001b[0;32m   1359\u001b[0m     \u001b[38;5;124;03m\"\"\"\u001b[39;00m\n\u001b[0;32m   1360\u001b[0m \u001b[38;5;124;03m    Let the readers open IOHanldes after they are done with their potential raises.\u001b[39;00m\n\u001b[0;32m   1361\u001b[0m \u001b[38;5;124;03m    \"\"\"\u001b[39;00m\n\u001b[1;32m-> 1362\u001b[0m     \u001b[38;5;28mself\u001b[39m\u001b[38;5;241m.\u001b[39mhandles \u001b[38;5;241m=\u001b[39m \u001b[43mget_handle\u001b[49m\u001b[43m(\u001b[49m\n\u001b[0;32m   1363\u001b[0m \u001b[43m        \u001b[49m\u001b[43msrc\u001b[49m\u001b[43m,\u001b[49m\n\u001b[0;32m   1364\u001b[0m \u001b[43m        \u001b[49m\u001b[38;5;124;43m\"\u001b[39;49m\u001b[38;5;124;43mr\u001b[39;49m\u001b[38;5;124;43m\"\u001b[39;49m\u001b[43m,\u001b[49m\n\u001b[0;32m   1365\u001b[0m \u001b[43m        \u001b[49m\u001b[43mencoding\u001b[49m\u001b[38;5;241;43m=\u001b[39;49m\u001b[43mkwds\u001b[49m\u001b[38;5;241;43m.\u001b[39;49m\u001b[43mget\u001b[49m\u001b[43m(\u001b[49m\u001b[38;5;124;43m\"\u001b[39;49m\u001b[38;5;124;43mencoding\u001b[39;49m\u001b[38;5;124;43m\"\u001b[39;49m\u001b[43m,\u001b[49m\u001b[43m \u001b[49m\u001b[38;5;28;43;01mNone\u001b[39;49;00m\u001b[43m)\u001b[49m\u001b[43m,\u001b[49m\n\u001b[0;32m   1366\u001b[0m \u001b[43m        \u001b[49m\u001b[43mcompression\u001b[49m\u001b[38;5;241;43m=\u001b[39;49m\u001b[43mkwds\u001b[49m\u001b[38;5;241;43m.\u001b[39;49m\u001b[43mget\u001b[49m\u001b[43m(\u001b[49m\u001b[38;5;124;43m\"\u001b[39;49m\u001b[38;5;124;43mcompression\u001b[39;49m\u001b[38;5;124;43m\"\u001b[39;49m\u001b[43m,\u001b[49m\u001b[43m \u001b[49m\u001b[38;5;28;43;01mNone\u001b[39;49;00m\u001b[43m)\u001b[49m\u001b[43m,\u001b[49m\n\u001b[0;32m   1367\u001b[0m \u001b[43m        \u001b[49m\u001b[43mmemory_map\u001b[49m\u001b[38;5;241;43m=\u001b[39;49m\u001b[43mkwds\u001b[49m\u001b[38;5;241;43m.\u001b[39;49m\u001b[43mget\u001b[49m\u001b[43m(\u001b[49m\u001b[38;5;124;43m\"\u001b[39;49m\u001b[38;5;124;43mmemory_map\u001b[39;49m\u001b[38;5;124;43m\"\u001b[39;49m\u001b[43m,\u001b[49m\u001b[43m \u001b[49m\u001b[38;5;28;43;01mFalse\u001b[39;49;00m\u001b[43m)\u001b[49m\u001b[43m,\u001b[49m\n\u001b[0;32m   1368\u001b[0m \u001b[43m        \u001b[49m\u001b[43mstorage_options\u001b[49m\u001b[38;5;241;43m=\u001b[39;49m\u001b[43mkwds\u001b[49m\u001b[38;5;241;43m.\u001b[39;49m\u001b[43mget\u001b[49m\u001b[43m(\u001b[49m\u001b[38;5;124;43m\"\u001b[39;49m\u001b[38;5;124;43mstorage_options\u001b[39;49m\u001b[38;5;124;43m\"\u001b[39;49m\u001b[43m,\u001b[49m\u001b[43m \u001b[49m\u001b[38;5;28;43;01mNone\u001b[39;49;00m\u001b[43m)\u001b[49m\u001b[43m,\u001b[49m\n\u001b[0;32m   1369\u001b[0m \u001b[43m    \u001b[49m\u001b[43m)\u001b[49m\n",
      "File \u001b[1;32m~\\anaconda3\\lib\\site-packages\\pandas\\io\\common.py:647\u001b[0m, in \u001b[0;36mget_handle\u001b[1;34m(path_or_buf, mode, encoding, compression, memory_map, is_text, errors, storage_options)\u001b[0m\n\u001b[0;32m    645\u001b[0m         errors \u001b[38;5;241m=\u001b[39m \u001b[38;5;124m\"\u001b[39m\u001b[38;5;124mreplace\u001b[39m\u001b[38;5;124m\"\u001b[39m\n\u001b[0;32m    646\u001b[0m     \u001b[38;5;66;03m# Encoding\u001b[39;00m\n\u001b[1;32m--> 647\u001b[0m     handle \u001b[38;5;241m=\u001b[39m \u001b[38;5;28;43mopen\u001b[39;49m\u001b[43m(\u001b[49m\n\u001b[0;32m    648\u001b[0m \u001b[43m        \u001b[49m\u001b[43mhandle\u001b[49m\u001b[43m,\u001b[49m\n\u001b[0;32m    649\u001b[0m \u001b[43m        \u001b[49m\u001b[43mioargs\u001b[49m\u001b[38;5;241;43m.\u001b[39;49m\u001b[43mmode\u001b[49m\u001b[43m,\u001b[49m\n\u001b[0;32m    650\u001b[0m \u001b[43m        \u001b[49m\u001b[43mencoding\u001b[49m\u001b[38;5;241;43m=\u001b[39;49m\u001b[43mioargs\u001b[49m\u001b[38;5;241;43m.\u001b[39;49m\u001b[43mencoding\u001b[49m\u001b[43m,\u001b[49m\n\u001b[0;32m    651\u001b[0m \u001b[43m        \u001b[49m\u001b[43merrors\u001b[49m\u001b[38;5;241;43m=\u001b[39;49m\u001b[43merrors\u001b[49m\u001b[43m,\u001b[49m\n\u001b[0;32m    652\u001b[0m \u001b[43m        \u001b[49m\u001b[43mnewline\u001b[49m\u001b[38;5;241;43m=\u001b[39;49m\u001b[38;5;124;43m\"\u001b[39;49m\u001b[38;5;124;43m\"\u001b[39;49m\u001b[43m,\u001b[49m\n\u001b[0;32m    653\u001b[0m \u001b[43m    \u001b[49m\u001b[43m)\u001b[49m\n\u001b[0;32m    654\u001b[0m \u001b[38;5;28;01melse\u001b[39;00m:\n\u001b[0;32m    655\u001b[0m     \u001b[38;5;66;03m# Binary mode\u001b[39;00m\n\u001b[0;32m    656\u001b[0m     handle \u001b[38;5;241m=\u001b[39m \u001b[38;5;28mopen\u001b[39m(handle, ioargs\u001b[38;5;241m.\u001b[39mmode)\n",
      "\u001b[1;31mFileNotFoundError\u001b[0m: [Errno 2] No such file or directory: '../input/credit-score-classification/train.csv'"
     ]
    }
   ],
   "source": [
    "df_origin_train = pd.read_csv('../input/credit-score-classification/train.csv')\n",
    "df_train = df_origin_train.copy()\n",
    "\n",
    "df_origin_test = pd.read_csv('../input/credit-score-classification/test.csv')\n",
    "df_test = df_origin_test.copy()\n",
    "\n",
    "df_train.shape, df_test.shape"
   ]
  },
  {
   "cell_type": "markdown",
   "metadata": {
    "_cell_guid": "f8d01bce-678b-4bd9-9bf2-f01365ff22dd",
    "_uuid": "59d6b652-0f5d-4bb9-bdd2-efbeb9bd8020"
   },
   "source": [
    "## Recognizing and Understanding Data"
   ]
  },
  {
   "cell_type": "code",
   "execution_count": null,
   "metadata": {
    "execution": {
     "iopub.execute_input": "2022-09-28T19:08:13.166965Z",
     "iopub.status.busy": "2022-09-28T19:08:13.16632Z",
     "iopub.status.idle": "2022-09-28T19:08:13.174142Z",
     "shell.execute_reply": "2022-09-28T19:08:13.173064Z",
     "shell.execute_reply.started": "2022-09-28T19:08:13.166928Z"
    }
   },
   "outputs": [],
   "source": [
    "(df_train.columns[:-1]!=df_test.columns).sum()"
   ]
  },
  {
   "cell_type": "code",
   "execution_count": null,
   "metadata": {
    "execution": {
     "iopub.execute_input": "2022-09-28T19:08:13.177833Z",
     "iopub.status.busy": "2022-09-28T19:08:13.177044Z",
     "iopub.status.idle": "2022-09-28T19:08:15.831447Z",
     "shell.execute_reply": "2022-09-28T19:08:15.829308Z",
     "shell.execute_reply.started": "2022-09-28T19:08:13.177758Z"
    }
   },
   "outputs": [],
   "source": [
    "df = pd.concat([df_train, df_test], ignore_index=True)\n",
    "df = df.applymap(lambda x: x if x is np.NaN or not isinstance(x, str) else str(x).strip('_ ,\"')\n",
    "                      ).replace(' and', '').replace(['', 'nan', '!@9#%8', '#F%$D@*&8'], np.NaN)\n",
    "df"
   ]
  },
  {
   "cell_type": "markdown",
   "metadata": {},
   "source": [
    "# 02. EDA\n",
    "- Drop unnecessary colums"
   ]
  },
  {
   "cell_type": "code",
   "execution_count": null,
   "metadata": {
    "execution": {
     "iopub.execute_input": "2022-09-28T19:08:15.83374Z",
     "iopub.status.busy": "2022-09-28T19:08:15.832877Z",
     "iopub.status.idle": "2022-09-28T19:08:16.109596Z",
     "shell.execute_reply": "2022-09-28T19:08:16.108353Z",
     "shell.execute_reply.started": "2022-09-28T19:08:15.833698Z"
    }
   },
   "outputs": [],
   "source": [
    "df.select_dtypes(include='O').nunique()"
   ]
  },
  {
   "cell_type": "code",
   "execution_count": null,
   "metadata": {
    "execution": {
     "iopub.execute_input": "2022-09-28T19:08:16.111493Z",
     "iopub.status.busy": "2022-09-28T19:08:16.110847Z",
     "iopub.status.idle": "2022-09-28T19:08:16.414434Z",
     "shell.execute_reply": "2022-09-28T19:08:16.413524Z",
     "shell.execute_reply.started": "2022-09-28T19:08:16.11146Z"
    }
   },
   "outputs": [],
   "source": [
    "df.groupby('Month')['Customer_ID'].count().to_frame('count_Customer_ID').plot(kind =\"bar\")"
   ]
  },
  {
   "cell_type": "code",
   "execution_count": null,
   "metadata": {
    "execution": {
     "iopub.execute_input": "2022-09-28T19:08:16.416514Z",
     "iopub.status.busy": "2022-09-28T19:08:16.415727Z",
     "iopub.status.idle": "2022-09-28T19:08:16.458041Z",
     "shell.execute_reply": "2022-09-28T19:08:16.457093Z",
     "shell.execute_reply.started": "2022-09-28T19:08:16.416475Z"
    }
   },
   "outputs": [],
   "source": [
    "# Drop the Columns we not use in model\n",
    "df.drop(columns=['ID', 'Month', 'Name', 'SSN'], inplace=True)"
   ]
  },
  {
   "cell_type": "code",
   "execution_count": null,
   "metadata": {
    "execution": {
     "iopub.execute_input": "2022-09-28T19:08:16.460968Z",
     "iopub.status.busy": "2022-09-28T19:08:16.460262Z",
     "iopub.status.idle": "2022-09-28T19:08:16.572213Z",
     "shell.execute_reply": "2022-09-28T19:08:16.57131Z",
     "shell.execute_reply.started": "2022-09-28T19:08:16.46093Z"
    }
   },
   "outputs": [],
   "source": [
    "df.select_dtypes(include='O').isna().sum()"
   ]
  },
  {
   "cell_type": "markdown",
   "metadata": {
    "_cell_guid": "78429edb-16f1-4231-9101-c90e60a07232",
    "_uuid": "8dbedffd-7112-45ee-8a68-9fa194d72986"
   },
   "source": [
    "## Fixing a data type (value_counts(), astype(), infer_objects(), convert_dtypes())\n",
    "\n",
    "- Detect strange values by Columns Convert Object Types to Numeric Types (int, float, np.int64, pd.Int64Dtype())\n",
    "- Combining object columns\n",
    "\n",
    "Change column type in pandas:\n",
    "\n",
    "  01. astype() - convert (almost) any type to (almost) any other type (even if it's not necessarily sensible to do so). Also   allows you to convert to categorial types (very useful).\n",
    "  02. infer_objects() - a utility method to convert object columns holding Python objects to a pandas type if possible.\n",
    "  03. convert_dtypes() - convert DataFrame columns to the \"best possible\" dtype that supports pd.NA (pandas' object to indicate a missing value).\n",
    "  04. to_numeric() - provides functionality to safely convert non-numeric types.(See also to_datetime() and to_timedelta().)\n",
    "  05. factorize() - provides sorting"
   ]
  },
  {
   "cell_type": "markdown",
   "metadata": {},
   "source": [
    "### Assign Object Types to Numeric Types"
   ]
  },
  {
   "cell_type": "code",
   "execution_count": null,
   "metadata": {
    "execution": {
     "iopub.execute_input": "2022-09-28T19:08:16.576313Z",
     "iopub.status.busy": "2022-09-28T19:08:16.576032Z",
     "iopub.status.idle": "2022-09-28T19:08:16.926832Z",
     "shell.execute_reply": "2022-09-28T19:08:16.925768Z",
     "shell.execute_reply.started": "2022-09-28T19:08:16.576287Z"
    }
   },
   "outputs": [],
   "source": [
    "df.describe(include='O').T"
   ]
  },
  {
   "cell_type": "code",
   "execution_count": null,
   "metadata": {
    "_cell_guid": "17704277-aae0-4a26-9c66-a06c977405d9",
    "_uuid": "2993fa06-c1a5-4d33-af7c-c8571e6b36a9",
    "execution": {
     "iopub.execute_input": "2022-09-28T19:08:16.928752Z",
     "iopub.status.busy": "2022-09-28T19:08:16.928383Z",
     "iopub.status.idle": "2022-09-28T19:08:17.510719Z",
     "shell.execute_reply": "2022-09-28T19:08:17.509689Z",
     "shell.execute_reply.started": "2022-09-28T19:08:16.928716Z"
    },
    "jupyter": {
     "outputs_hidden": false
    }
   },
   "outputs": [],
   "source": [
    "df['Customer_ID'] = df.Customer_ID.apply(lambda x: int(x[4:], 16))\n",
    "df['Age'] = df.Age.astype(int)        \n",
    "df['Annual_Income'] = df.Annual_Income.astype(float)\n",
    "df['Num_of_Loan'] = df.Num_of_Loan.astype(int) \n",
    "df['Num_of_Delayed_Payment'] = df.Num_of_Delayed_Payment.astype(float)\n",
    "df['Changed_Credit_Limit'] = df.Changed_Credit_Limit.astype(float)\n",
    "df['Outstanding_Debt'] = df.Outstanding_Debt.astype(float)\n",
    "df['Amount_invested_monthly'] = df.Amount_invested_monthly.astype(float)\n",
    "df['Monthly_Balance'] = df.Monthly_Balance.astype(float)"
   ]
  },
  {
   "cell_type": "markdown",
   "metadata": {
    "_cell_guid": "fad00f20-c9e5-4c29-9d88-acd91994e914",
    "_uuid": "b461b4ed-cf03-4f85-8fe1-a7b6d28e6e0e"
   },
   "source": [
    "#### Combining object columns"
   ]
  },
  {
   "cell_type": "code",
   "execution_count": null,
   "metadata": {
    "_cell_guid": "35d2c8a6-55dd-4725-9a3b-8812ce85b7d6",
    "_uuid": "b37144d7-f92a-454d-9fb6-86663bb7575e",
    "execution": {
     "iopub.execute_input": "2022-09-28T19:08:17.515845Z",
     "iopub.status.busy": "2022-09-28T19:08:17.515223Z",
     "iopub.status.idle": "2022-09-28T19:08:17.52504Z",
     "shell.execute_reply": "2022-09-28T19:08:17.524048Z",
     "shell.execute_reply.started": "2022-09-28T19:08:17.515799Z"
    },
    "jupyter": {
     "outputs_hidden": false
    }
   },
   "outputs": [],
   "source": [
    "def Month_Converter(x):\n",
    "    if pd.notnull(x):\n",
    "        num1 = int(x.split(' ')[0])\n",
    "        num2 = int(x.split(' ')[3])\n",
    "      \n",
    "        return (num1*12)+num2\n",
    "    else:\n",
    "        return x\n",
    "    \n",
    "# Month_Converter('3 Years and 1 Months')"
   ]
  },
  {
   "cell_type": "code",
   "execution_count": null,
   "metadata": {
    "_cell_guid": "dc0e4d3a-e270-4699-ad8c-692cf787ae0c",
    "_uuid": "c1bee760-f864-478b-8f80-bdc2c3cb7308",
    "execution": {
     "iopub.execute_input": "2022-09-28T19:08:17.527496Z",
     "iopub.status.busy": "2022-09-28T19:08:17.526409Z",
     "iopub.status.idle": "2022-09-28T19:08:17.835109Z",
     "shell.execute_reply": "2022-09-28T19:08:17.83415Z",
     "shell.execute_reply.started": "2022-09-28T19:08:17.52746Z"
    },
    "jupyter": {
     "outputs_hidden": false
    }
   },
   "outputs": [],
   "source": [
    "df['Credit_History_Age'] = df.Credit_History_Age.apply(lambda x: Month_Converter(x)).astype(float)"
   ]
  },
  {
   "cell_type": "code",
   "execution_count": null,
   "metadata": {
    "_cell_guid": "83713cc9-b78c-4b09-bbc0-443d9dee72f6",
    "_uuid": "ab158b2c-7093-4bce-ac4f-720c9c0b6e7e",
    "execution": {
     "iopub.execute_input": "2022-09-28T19:08:17.836973Z",
     "iopub.status.busy": "2022-09-28T19:08:17.836624Z",
     "iopub.status.idle": "2022-09-28T19:08:17.843932Z",
     "shell.execute_reply": "2022-09-28T19:08:17.84285Z",
     "shell.execute_reply.started": "2022-09-28T19:08:17.836937Z"
    },
    "jupyter": {
     "outputs_hidden": false
    }
   },
   "outputs": [],
   "source": [
    "def get_Diff_Values_Colum(df_column, diff_value = []):   \n",
    "    column = df_column.dropna()\n",
    "    for i in column:\n",
    "        if ',' not in i and i not in diff_value:\n",
    "            diff_value.append(i)\n",
    "        else:\n",
    "            for data in map(lambda x:x.strip(), i.replace('and','').split(',')):\n",
    "                if not data in diff_value:\n",
    "                    diff_value.append(data)\n",
    "    return dict(enumerate(sorted(diff_value)))"
   ]
  },
  {
   "cell_type": "code",
   "execution_count": null,
   "metadata": {
    "_cell_guid": "1452a7d3-e111-4548-badc-48557a084bd1",
    "_uuid": "027dda61-9e50-488b-a1f3-5c938e7694cf",
    "execution": {
     "iopub.execute_input": "2022-09-28T19:08:17.846195Z",
     "iopub.status.busy": "2022-09-28T19:08:17.845778Z",
     "iopub.status.idle": "2022-09-28T19:08:18.097778Z",
     "shell.execute_reply": "2022-09-28T19:08:18.096732Z",
     "shell.execute_reply.started": "2022-09-28T19:08:17.846161Z"
    },
    "jupyter": {
     "outputs_hidden": false
    }
   },
   "outputs": [],
   "source": [
    "get_Diff_Values_Colum(df['Type_of_Loan'])"
   ]
  },
  {
   "cell_type": "markdown",
   "metadata": {
    "_cell_guid": "61cab54c-26cc-4f54-a985-324872885e21",
    "_uuid": "df057f50-2351-417e-afcc-004d47288204"
   },
   "source": [
    "## Detect Group NaN Values and Fill Group Mode"
   ]
  },
  {
   "cell_type": "code",
   "execution_count": null,
   "metadata": {
    "execution": {
     "iopub.execute_input": "2022-09-28T19:08:18.099804Z",
     "iopub.status.busy": "2022-09-28T19:08:18.099428Z",
     "iopub.status.idle": "2022-09-28T19:08:18.152167Z",
     "shell.execute_reply": "2022-09-28T19:08:18.151128Z",
     "shell.execute_reply.started": "2022-09-28T19:08:18.099767Z"
    }
   },
   "outputs": [],
   "source": [
    "df.info()"
   ]
  },
  {
   "cell_type": "markdown",
   "metadata": {
    "_cell_guid": "96ec586f-7461-4c21-9fa3-ff09d9276e13",
    "_uuid": "4339d830-4851-4529-997a-33bd3d687718"
   },
   "source": [
    "### Object Column: Get Group Mode and Reassign NaN Values"
   ]
  },
  {
   "cell_type": "code",
   "execution_count": null,
   "metadata": {
    "_cell_guid": "97d3816b-555b-4e25-b4c2-2a64a1097850",
    "_uuid": "38fabc62-f3a5-4650-9398-0b8987d25ee9",
    "execution": {
     "iopub.execute_input": "2022-09-28T19:08:18.153929Z",
     "iopub.status.busy": "2022-09-28T19:08:18.153507Z",
     "iopub.status.idle": "2022-09-28T19:08:18.165178Z",
     "shell.execute_reply": "2022-09-28T19:08:18.164031Z",
     "shell.execute_reply.started": "2022-09-28T19:08:18.153892Z"
    },
    "jupyter": {
     "outputs_hidden": false
    }
   },
   "outputs": [],
   "source": [
    "# Reassign and Show Function\n",
    "def Reassign_Group_Object_NaN_Values(df, groupby, column, inplace=True):      \n",
    "    import scipy.stats as stats\n",
    "    # Assigning Wrong values Make Simple Function\n",
    "    def make_NaN_and_fill_mode(df, groupby, column, inplace=True):\n",
    "        # Assign None to np.NaN\n",
    "        if df[column].isin([None]).sum():\n",
    "            df[column][df[column].isin([None])] = np.NaN\n",
    "            \n",
    "        # fill with local mode\n",
    "        result = df.groupby(groupby)[column].transform(lambda x: x.fillna(stats.mode(x)[0][0]))\n",
    "\n",
    "        # inplace\n",
    "        if inplace:\n",
    "            df[column]=result\n",
    "        else:\n",
    "            return result\n",
    "    \n",
    "    # Run and show some info     \n",
    "    if inplace:  \n",
    "        # Before Assigning Wrong values      \n",
    "        x = df[column].value_counts(dropna=False).head(1)\n",
    "        print(f'\\nBefore Assigning NaN {column}:', [x if x.index[0] is np.NaN or x.index[0] is None else 'No NaN Value'] , end='\\n')\n",
    "        a = df.groupby(groupby)[column].apply(list) \n",
    "        print(f'\\nBefore Assigning Example {column}:\\n', *a.head().values, sep='\\n', end='\\n')\n",
    "        \n",
    "        # Assigning\n",
    "        make_NaN_and_fill_mode(df, groupby, column, inplace)\n",
    "        \n",
    "        # After Assigning Wrong values\n",
    "        y = df[column].value_counts(dropna=False).head(1)\n",
    "        print(f'\\nAfter Assigning NaN {column}:', [y if y.index[0] is np.NaN or x.index[0] is None else 'No NaN Value'] , end='\\n')\n",
    "        b = df.groupby(groupby)[column].apply(list)\n",
    "        print(f'\\nAfter Assigning Example {column}:\\n', *b.head().values, sep='\\n', end='\\n')\n",
    "    else:   \n",
    "        # Show\n",
    "        return make_NaN_and_fill_mode(df, groupby, column, inplace)"
   ]
  },
  {
   "cell_type": "code",
   "execution_count": null,
   "metadata": {
    "_cell_guid": "85fca568-f135-4746-8df5-d85b3e9edfbe",
    "_uuid": "4a33d8df-8d33-4d6b-a280-44001d65bda0",
    "execution": {
     "iopub.execute_input": "2022-09-28T19:08:18.167416Z",
     "iopub.status.busy": "2022-09-28T19:08:18.166806Z",
     "iopub.status.idle": "2022-09-28T19:08:18.279616Z",
     "shell.execute_reply": "2022-09-28T19:08:18.278532Z",
     "shell.execute_reply.started": "2022-09-28T19:08:18.16738Z"
    },
    "jupyter": {
     "outputs_hidden": false
    }
   },
   "outputs": [],
   "source": [
    "df.describe(include='O').T"
   ]
  },
  {
   "cell_type": "code",
   "execution_count": null,
   "metadata": {
    "_cell_guid": "cff02fa1-0bb7-412d-9a92-2bf45abc89a8",
    "_uuid": "a4ae3aba-4c3e-446d-b0b8-17dd0c067cb3",
    "execution": {
     "iopub.execute_input": "2022-09-28T19:08:18.281642Z",
     "iopub.status.busy": "2022-09-28T19:08:18.281235Z",
     "iopub.status.idle": "2022-09-28T19:08:35.447103Z",
     "shell.execute_reply": "2022-09-28T19:08:35.446047Z",
     "shell.execute_reply.started": "2022-09-28T19:08:18.281604Z"
    },
    "jupyter": {
     "outputs_hidden": false
    }
   },
   "outputs": [],
   "source": [
    "Reassign_Group_Object_NaN_Values(df, 'Customer_ID', 'Occupation')\n",
    "Reassign_Group_Object_NaN_Values(df, 'Customer_ID', 'Credit_Mix')\n",
    "Reassign_Group_Object_NaN_Values(df, 'Customer_ID', 'Payment_Behaviour')"
   ]
  },
  {
   "cell_type": "code",
   "execution_count": null,
   "metadata": {
    "execution": {
     "iopub.execute_input": "2022-09-28T19:08:35.450047Z",
     "iopub.status.busy": "2022-09-28T19:08:35.449375Z",
     "iopub.status.idle": "2022-09-28T19:08:35.458875Z",
     "shell.execute_reply": "2022-09-28T19:08:35.45789Z",
     "shell.execute_reply.started": "2022-09-28T19:08:35.450005Z"
    }
   },
   "outputs": [],
   "source": [
    "df[df['Customer_ID']==1008]['Type_of_Loan']"
   ]
  },
  {
   "cell_type": "code",
   "execution_count": null,
   "metadata": {
    "execution": {
     "iopub.execute_input": "2022-09-28T19:08:35.460724Z",
     "iopub.status.busy": "2022-09-28T19:08:35.460385Z",
     "iopub.status.idle": "2022-09-28T19:08:36.18462Z",
     "shell.execute_reply": "2022-09-28T19:08:36.183573Z",
     "shell.execute_reply.started": "2022-09-28T19:08:35.46069Z"
    }
   },
   "outputs": [],
   "source": [
    "df['Type_of_Loan'] = df['Type_of_Loan'].replace([', and ', ', '], ',', regex=True)"
   ]
  },
  {
   "cell_type": "code",
   "execution_count": null,
   "metadata": {
    "execution": {
     "iopub.execute_input": "2022-09-28T19:08:36.186654Z",
     "iopub.status.busy": "2022-09-28T19:08:36.186256Z",
     "iopub.status.idle": "2022-09-28T19:08:36.203903Z",
     "shell.execute_reply": "2022-09-28T19:08:36.202901Z",
     "shell.execute_reply.started": "2022-09-28T19:08:36.186614Z"
    }
   },
   "outputs": [],
   "source": [
    "df['Type_of_Loan'] = df['Type_of_Loan'].fillna('Not Specified')"
   ]
  },
  {
   "cell_type": "markdown",
   "metadata": {
    "_cell_guid": "4d613f70-7db1-4e42-8633-6ea2498e4ab1",
    "_uuid": "feb3e1d7-8c73-4875-8b44-59a4c62d5ee9",
    "execution": {
     "iopub.execute_input": "2022-07-14T20:30:58.808208Z",
     "iopub.status.busy": "2022-07-14T20:30:58.807447Z",
     "iopub.status.idle": "2022-07-14T20:30:58.812889Z",
     "shell.execute_reply": "2022-07-14T20:30:58.812082Z",
     "shell.execute_reply.started": "2022-07-14T20:30:58.808179Z"
    }
   },
   "source": [
    "### Numeric Column: Get Group Min-Max Detect Outlier-Wrong V alues and Reassign NaN Values"
   ]
  },
  {
   "cell_type": "code",
   "execution_count": null,
   "metadata": {
    "_cell_guid": "258e3090-b0be-452f-8da1-de7b493d8881",
    "_uuid": "3498c143-b486-4cfd-9cbb-d41f1c29fade",
    "execution": {
     "iopub.execute_input": "2022-09-28T19:08:36.205885Z",
     "iopub.status.busy": "2022-09-28T19:08:36.20551Z",
     "iopub.status.idle": "2022-09-28T19:08:36.222326Z",
     "shell.execute_reply": "2022-09-28T19:08:36.221311Z",
     "shell.execute_reply.started": "2022-09-28T19:08:36.205849Z"
    },
    "jupyter": {
     "outputs_hidden": false
    }
   },
   "outputs": [],
   "source": [
    "# Reassign Wrong Values and Show Function\n",
    "def Reassign_Group_Numeric_Wrong_Values(df, groupby, column, inplace=True):      \n",
    "    import scipy.stats as stats \n",
    "\n",
    "    # Identify Wrong values Range\n",
    "    def get_group_min_max(df, groupby, column):            \n",
    "        cur = df[df[column].notna()].groupby(groupby)[column].apply(list)\n",
    "        x, y = cur.apply(lambda x: stats.mode(x)).apply([min, max])\n",
    "        return x[0][0], y[0][0]\n",
    "    \n",
    "    # Assigning Wrong values\n",
    "    def make_group_NaN_and_fill_mode(df, groupby, column, inplace=True):\n",
    "        df_dropped = df[df[column].notna()].groupby(groupby)[column].apply(list)\n",
    "        x, y = df_dropped.apply(lambda x: stats.mode(x)).apply([min, max])\n",
    "        mini, maxi = x[0][0], y[0][0]\n",
    "\n",
    "        # assign Wrong Values to NaN\n",
    "        col = df[column].apply(lambda x: np.NaN if ((x<mini)|(x>maxi)) else x)\n",
    "\n",
    "        # fill with local mode\n",
    "        mode_by_group = df.groupby(groupby)[column].transform(lambda x: x.mode()[0] if not x.mode().empty else np.NaN)\n",
    "        result = col.fillna(mode_by_group)\n",
    "\n",
    "        # inplace\n",
    "        if inplace:\n",
    "            df[column]=result\n",
    "        else:\n",
    "            return result\n",
    "        \n",
    "    \n",
    "    # Run      \n",
    "    if inplace:   \n",
    "        print(\"\\nExisting Min, Max Values:\", df[column].apply([min, max]), sep='\\n', end='\\n')       \n",
    "        mini, maxi = get_group_min_max(df, groupby, column)        \n",
    "        print(f\"\\nGroupby by {groupby}'s Actual min, max Values:\", f'min:\\t{mini},\\nmax:\\t{ maxi}', sep='\\n', end='\\n')\n",
    "        \n",
    "        # Before Assigning Wrong values      \n",
    "        x = df[column].value_counts(dropna=False).head(1)\n",
    "        print(f'\\nBefore Assigning Min, Max {column}:', [x if x.index[0] is np.NaN or x.index[0] is None else 'No NaN Value'] , end='\\n')\n",
    "        \n",
    "        a = df.groupby(groupby)[column].apply(list) \n",
    "        print(f'\\nBefore Assigning Example {column}:\\n', *a.head().values, sep='\\n', end='\\n')\n",
    "        \n",
    "        # Assigning\n",
    "        make_group_NaN_and_fill_mode(df, groupby, column, inplace)\n",
    "        \n",
    "        # After Assigning Wrong values\n",
    "        y = df[column].value_counts(dropna=False).head(1)\n",
    "        print(f'\\nAfter Assigning  Min, Max {column}:', [y if y.index[0] is np.NaN or x.index[0] is None else 'No NaN Value'] , end='\\n')\n",
    "        \n",
    "        b = df.groupby(groupby)[column].apply(list)\n",
    "        print(f'\\nAfter Assigning Example {column}:\\n', *b.head().values, sep='\\n', end='\\n')\n",
    "    else:   \n",
    "        # Show\n",
    "        return make_group_NaN_and_fill_mode(df, groupby, column, inplace)"
   ]
  },
  {
   "cell_type": "code",
   "execution_count": null,
   "metadata": {
    "_cell_guid": "eccd24c7-ecb0-49c5-ab5f-7972edff0b1b",
    "_uuid": "c1c225bb-7aab-4c33-99db-98c9fb9df271",
    "execution": {
     "iopub.execute_input": "2022-09-28T19:08:36.224428Z",
     "iopub.status.busy": "2022-09-28T19:08:36.223963Z",
     "iopub.status.idle": "2022-09-28T19:08:36.354153Z",
     "shell.execute_reply": "2022-09-28T19:08:36.352947Z",
     "shell.execute_reply.started": "2022-09-28T19:08:36.224389Z"
    },
    "jupyter": {
     "outputs_hidden": false
    }
   },
   "outputs": [],
   "source": [
    "df.describe().T"
   ]
  },
  {
   "cell_type": "code",
   "execution_count": null,
   "metadata": {
    "_cell_guid": "8d08e5f8-7bcc-434c-9010-7fbe8ef2bcc3",
    "_uuid": "42bb3692-c1bd-4981-b12b-06f5516008b8",
    "execution": {
     "iopub.execute_input": "2022-09-28T19:08:36.361979Z",
     "iopub.status.busy": "2022-09-28T19:08:36.361666Z",
     "iopub.status.idle": "2022-09-28T19:08:36.380232Z",
     "shell.execute_reply": "2022-09-28T19:08:36.379285Z",
     "shell.execute_reply.started": "2022-09-28T19:08:36.361939Z"
    },
    "jupyter": {
     "outputs_hidden": false
    }
   },
   "outputs": [],
   "source": [
    "df.select_dtypes(include='number').isna().sum()"
   ]
  },
  {
   "cell_type": "code",
   "execution_count": null,
   "metadata": {
    "_cell_guid": "f2c2e2ee-78e7-4e7b-8b7a-b98269a4467b",
    "_uuid": "70f86c53-fff8-4765-9db3-a9229f687d04",
    "execution": {
     "iopub.execute_input": "2022-09-28T19:08:36.381962Z",
     "iopub.status.busy": "2022-09-28T19:08:36.381541Z",
     "iopub.status.idle": "2022-09-28T19:10:44.557492Z",
     "shell.execute_reply": "2022-09-28T19:10:44.556388Z",
     "shell.execute_reply.started": "2022-09-28T19:08:36.381927Z"
    },
    "jupyter": {
     "outputs_hidden": false
    }
   },
   "outputs": [],
   "source": [
    "# reassign Group nan and Wrong-outlier values\n",
    "Reassign_Group_Numeric_Wrong_Values(df, 'Customer_ID', 'Age')\n",
    "Reassign_Group_Numeric_Wrong_Values(df, 'Customer_ID', 'Annual_Income')\n",
    "Reassign_Group_Numeric_Wrong_Values(df, 'Customer_ID', 'Monthly_Inhand_Salary')\n",
    "Reassign_Group_Numeric_Wrong_Values(df, 'Customer_ID', 'Num_Bank_Accounts')\n",
    "Reassign_Group_Numeric_Wrong_Values(df, 'Customer_ID', 'Num_Credit_Card')\n",
    "Reassign_Group_Numeric_Wrong_Values(df, 'Customer_ID', 'Interest_Rate')\n",
    "Reassign_Group_Numeric_Wrong_Values(df, 'Customer_ID', 'Num_of_Loan')\n",
    "Reassign_Group_Numeric_Wrong_Values(df, 'Customer_ID', 'Delay_from_due_date')\n",
    "Reassign_Group_Numeric_Wrong_Values(df, 'Customer_ID', 'Num_of_Delayed_Payment')\n",
    "Reassign_Group_Numeric_Wrong_Values(df, 'Customer_ID', 'Changed_Credit_Limit')\n",
    "Reassign_Group_Numeric_Wrong_Values(df, 'Customer_ID', 'Num_Credit_Inquiries')\n",
    "Reassign_Group_Numeric_Wrong_Values(df, 'Customer_ID', 'Outstanding_Debt')\n",
    "df['Credit_Utilization_Ratio'] = df.groupby('Customer_ID')['Credit_Utilization_Ratio'].apply(lambda x: x.interpolate().bfill().ffill())\n",
    "df['Credit_History_Age'] = df.groupby('Customer_ID')['Credit_History_Age'].apply(lambda x: x.interpolate().bfill().ffill())\n",
    "Reassign_Group_Numeric_Wrong_Values(df, 'Customer_ID', 'Total_EMI_per_month')\n",
    "Reassign_Group_Numeric_Wrong_Values(df, 'Customer_ID', 'Amount_invested_monthly')\n",
    "Reassign_Group_Numeric_Wrong_Values(df, 'Customer_ID', 'Monthly_Balance')"
   ]
  },
  {
   "cell_type": "code",
   "execution_count": null,
   "metadata": {
    "execution": {
     "iopub.execute_input": "2022-09-28T19:10:44.55944Z",
     "iopub.status.busy": "2022-09-28T19:10:44.55888Z",
     "iopub.status.idle": "2022-09-28T19:10:44.568576Z",
     "shell.execute_reply": "2022-09-28T19:10:44.567613Z",
     "shell.execute_reply.started": "2022-09-28T19:10:44.559402Z"
    }
   },
   "outputs": [],
   "source": [
    "df['Monthly_Balance'][df['Monthly_Balance']<0]"
   ]
  },
  {
   "cell_type": "code",
   "execution_count": null,
   "metadata": {
    "execution": {
     "iopub.execute_input": "2022-09-28T19:10:44.570458Z",
     "iopub.status.busy": "2022-09-28T19:10:44.570096Z",
     "iopub.status.idle": "2022-09-28T19:10:44.582907Z",
     "shell.execute_reply": "2022-09-28T19:10:44.581966Z",
     "shell.execute_reply.started": "2022-09-28T19:10:44.570422Z"
    }
   },
   "outputs": [],
   "source": [
    "df.loc[df['Monthly_Balance']<0, 'Monthly_Balance'] = None"
   ]
  },
  {
   "cell_type": "code",
   "execution_count": null,
   "metadata": {
    "execution": {
     "iopub.execute_input": "2022-09-28T19:10:44.584793Z",
     "iopub.status.busy": "2022-09-28T19:10:44.584443Z",
     "iopub.status.idle": "2022-09-28T19:10:52.773991Z",
     "shell.execute_reply": "2022-09-28T19:10:52.772981Z",
     "shell.execute_reply.started": "2022-09-28T19:10:44.584753Z"
    }
   },
   "outputs": [],
   "source": [
    "Reassign_Group_Numeric_Wrong_Values(df, 'Customer_ID', 'Monthly_Balance')"
   ]
  },
  {
   "cell_type": "code",
   "execution_count": null,
   "metadata": {
    "_cell_guid": "80250b76-3873-4d61-9ec0-1dee9aae4f80",
    "_uuid": "2436f616-0a0e-4272-a17f-4051b71cc375",
    "execution": {
     "iopub.execute_input": "2022-09-28T19:10:52.775984Z",
     "iopub.status.busy": "2022-09-28T19:10:52.775613Z",
     "iopub.status.idle": "2022-09-28T19:10:52.824977Z",
     "shell.execute_reply": "2022-09-28T19:10:52.823986Z",
     "shell.execute_reply.started": "2022-09-28T19:10:52.775947Z"
    },
    "jupyter": {
     "outputs_hidden": false
    }
   },
   "outputs": [],
   "source": [
    "df.isna().sum()"
   ]
  },
  {
   "cell_type": "code",
   "execution_count": null,
   "metadata": {
    "execution": {
     "iopub.execute_input": "2022-09-28T19:10:52.826859Z",
     "iopub.status.busy": "2022-09-28T19:10:52.826509Z",
     "iopub.status.idle": "2022-09-28T19:10:52.848939Z",
     "shell.execute_reply": "2022-09-28T19:10:52.847894Z",
     "shell.execute_reply.started": "2022-09-28T19:10:52.826824Z"
    }
   },
   "outputs": [],
   "source": [
    "# Drop the Columns we not use in model\n",
    "df.drop(columns=['Customer_ID'], inplace=True)"
   ]
  },
  {
   "cell_type": "code",
   "execution_count": null,
   "metadata": {
    "execution": {
     "iopub.execute_input": "2022-09-28T19:10:52.850817Z",
     "iopub.status.busy": "2022-09-28T19:10:52.850447Z",
     "iopub.status.idle": "2022-09-28T19:10:52.879134Z",
     "shell.execute_reply": "2022-09-28T19:10:52.878134Z",
     "shell.execute_reply.started": "2022-09-28T19:10:52.850778Z"
    }
   },
   "outputs": [],
   "source": [
    "# Drop the Rows we can not use in model\n",
    "df = df[df['Credit_Score'].notna()]\n",
    "df.shape"
   ]
  },
  {
   "cell_type": "code",
   "execution_count": null,
   "metadata": {
    "execution": {
     "iopub.execute_input": "2022-09-28T19:10:52.881061Z",
     "iopub.status.busy": "2022-09-28T19:10:52.880706Z",
     "iopub.status.idle": "2022-09-28T19:10:53.233855Z",
     "shell.execute_reply": "2022-09-28T19:10:53.232911Z",
     "shell.execute_reply.started": "2022-09-28T19:10:52.881027Z"
    }
   },
   "outputs": [],
   "source": [
    "# Check Target Feature for Classification\n",
    "fig, (hist, box) = plt.subplots(nrows=2, sharex=True, gridspec_kw={'height_ratios': [3, 1]})\n",
    "sns.histplot(df['Credit_Score'], discrete=True, stat='percent', shrink=.8, kde=False, ax=hist).grid(axis='y')\n",
    "hist.bar_label(hist.containers[0], fmt='%% %.0f', padding=-21, color='w', fontsize=14);\n",
    "sns.boxplot(pd.factorize(df['Credit_Score'])[0], ax=box, showmeans=True).grid(axis='x')"
   ]
  },
  {
   "cell_type": "code",
   "execution_count": null,
   "metadata": {
    "execution": {
     "iopub.execute_input": "2022-09-28T19:10:53.23593Z",
     "iopub.status.busy": "2022-09-28T19:10:53.235164Z",
     "iopub.status.idle": "2022-09-28T19:10:54.31302Z",
     "shell.execute_reply": "2022-09-28T19:10:54.312068Z",
     "shell.execute_reply.started": "2022-09-28T19:10:53.235891Z"
    }
   },
   "outputs": [],
   "source": [
    "# Correlation between Numerical features\n",
    "plt.figure(figsize=(14,8))\n",
    "sns.heatmap(\n",
    "    df.corr(), \n",
    "    mask=np.triu(np.ones_like(df.corr(), dtype=bool)), \n",
    "    annot=True, vmin=-1, vmax=1, cmap=\"PiYG\"\n",
    ")"
   ]
  },
  {
   "cell_type": "code",
   "execution_count": null,
   "metadata": {
    "execution": {
     "iopub.execute_input": "2022-09-28T19:10:54.315664Z",
     "iopub.status.busy": "2022-09-28T19:10:54.314109Z",
     "iopub.status.idle": "2022-09-28T19:10:54.320234Z",
     "shell.execute_reply": "2022-09-28T19:10:54.319331Z",
     "shell.execute_reply.started": "2022-09-28T19:10:54.315618Z"
    }
   },
   "outputs": [],
   "source": [
    "# df.to_csv(\"clean_credit_score_classification.csv\", index=False)"
   ]
  },
  {
   "cell_type": "markdown",
   "metadata": {},
   "source": [
    "# 03. Multi-class Classification Data Pre-Processing\n",
    "\n",
    "**Task:** Identify people with low credit scores\n",
    "\n",
    "01. Import Libraries and Reading the Data from File\n",
    "02. EDA\n",
    "03. Multi-class Classification Data Pre-Processing\n",
    "    01. Implement Logistic Regression Model\n",
    "    02. Implement Random Forest Classifier Model\n",
    "    03. Implement Xgboost Classifier Model\n",
    "04. Future Importance XGBoost \n",
    "05. Final Model\n",
    "06. Prepare Model Deployment"
   ]
  },
  {
   "cell_type": "markdown",
   "metadata": {},
   "source": [
    "## Import Libraries"
   ]
  },
  {
   "cell_type": "code",
   "execution_count": null,
   "metadata": {
    "execution": {
     "iopub.execute_input": "2022-09-28T19:10:54.322535Z",
     "iopub.status.busy": "2022-09-28T19:10:54.32184Z",
     "iopub.status.idle": "2022-09-28T19:10:54.632008Z",
     "shell.execute_reply": "2022-09-28T19:10:54.630986Z",
     "shell.execute_reply.started": "2022-09-28T19:10:54.3225Z"
    }
   },
   "outputs": [],
   "source": [
    "# conda install -c anaconda scikit-learn\n",
    "# sklearn library for machine learning algorithms, data preprocessing, and evaluation\n",
    "from sklearn.model_selection import train_test_split\n",
    "from sklearn.preprocessing import OneHotEncoder, OrdinalEncoder, LabelEncoder\n",
    "from sklearn.preprocessing import StandardScaler, MinMaxScaler, RobustScaler\n",
    "from sklearn.pipeline import Pipeline\n",
    "\n",
    "# Supervised-Classifier\n",
    "from sklearn.linear_model import LogisticRegression\n",
    "from sklearn.svm import LinearSVC, SVC\n",
    "from sklearn.ensemble import BaggingClassifier, RandomForestClassifier\n",
    "# conda install -c conda-forge xgboost\n",
    "from xgboost import XGBClassifier\n",
    "# Supervised-Classifier-metrics\n",
    "from sklearn.metrics import make_scorer, accuracy_score, recall_score, precision_score, f1_score, log_loss\n",
    "from sklearn.metrics import classification_report, plot_confusion_matrix, confusion_matrix\n",
    "from sklearn.metrics import plot_roc_curve, roc_curve, roc_auc_score, auc\n",
    "from sklearn.metrics import plot_precision_recall_curve, precision_recall_curve, average_precision_score\n",
    "\n",
    "# Supervised-cross_validate-GridSearchCV\n",
    "from sklearn.model_selection import cross_validate, cross_val_score\n",
    "from sklearn.model_selection import KFold\n",
    "from sklearn.model_selection import GridSearchCV\n",
    "\n",
    "import pickle\n",
    "random_state=42"
   ]
  },
  {
   "cell_type": "code",
   "execution_count": null,
   "metadata": {
    "execution": {
     "iopub.execute_input": "2022-09-28T19:10:54.634014Z",
     "iopub.status.busy": "2022-09-28T19:10:54.63364Z",
     "iopub.status.idle": "2022-09-28T19:10:54.646853Z",
     "shell.execute_reply": "2022-09-28T19:10:54.645726Z",
     "shell.execute_reply.started": "2022-09-28T19:10:54.633974Z"
    }
   },
   "outputs": [],
   "source": [
    "df1 = df.copy()"
   ]
  },
  {
   "cell_type": "code",
   "execution_count": null,
   "metadata": {
    "execution": {
     "iopub.execute_input": "2022-09-28T19:10:54.64879Z",
     "iopub.status.busy": "2022-09-28T19:10:54.64842Z",
     "iopub.status.idle": "2022-09-28T19:10:54.688963Z",
     "shell.execute_reply": "2022-09-28T19:10:54.687879Z",
     "shell.execute_reply.started": "2022-09-28T19:10:54.648746Z"
    }
   },
   "outputs": [],
   "source": [
    "df.info()"
   ]
  },
  {
   "cell_type": "code",
   "execution_count": null,
   "metadata": {
    "execution": {
     "iopub.execute_input": "2022-09-28T19:10:54.691108Z",
     "iopub.status.busy": "2022-09-28T19:10:54.690467Z",
     "iopub.status.idle": "2022-09-28T19:10:54.858316Z",
     "shell.execute_reply": "2022-09-28T19:10:54.857307Z",
     "shell.execute_reply.started": "2022-09-28T19:10:54.691068Z"
    }
   },
   "outputs": [],
   "source": [
    "df.describe(include='all').T"
   ]
  },
  {
   "cell_type": "markdown",
   "metadata": {},
   "source": [
    "## Train | Test Split"
   ]
  },
  {
   "cell_type": "code",
   "execution_count": null,
   "metadata": {
    "execution": {
     "iopub.execute_input": "2022-09-28T19:10:54.860382Z",
     "iopub.status.busy": "2022-09-28T19:10:54.859721Z",
     "iopub.status.idle": "2022-09-28T19:10:54.921415Z",
     "shell.execute_reply": "2022-09-28T19:10:54.920405Z",
     "shell.execute_reply.started": "2022-09-28T19:10:54.860329Z"
    }
   },
   "outputs": [],
   "source": [
    "X = df.drop(columns=\"Credit_Score\")\n",
    "y = df['Credit_Score']\n",
    "\n",
    "X_train, X_test, y_train, y_test = train_test_split(X, y, test_size=0.2, random_state=random_state)\n",
    "\n",
    "X_train.shape, X_test.shape, y_train.shape, "
   ]
  },
  {
   "cell_type": "markdown",
   "metadata": {},
   "source": [
    "## Dummy Operation"
   ]
  },
  {
   "cell_type": "code",
   "execution_count": null,
   "metadata": {
    "execution": {
     "iopub.execute_input": "2022-09-28T19:10:54.923277Z",
     "iopub.status.busy": "2022-09-28T19:10:54.92269Z",
     "iopub.status.idle": "2022-09-28T19:10:55.503883Z",
     "shell.execute_reply": "2022-09-28T19:10:55.502775Z",
     "shell.execute_reply.started": "2022-09-28T19:10:54.923237Z"
    }
   },
   "outputs": [],
   "source": [
    "X_train = X_train.join(X_train[\"Type_of_Loan\"].str.get_dummies(sep = \",\").add_prefix(\"tol_\"))\n",
    "X_test = X_test.join(X_test[\"Type_of_Loan\"].str.get_dummies(sep = \",\").add_prefix(\"tol_\"))\n",
    "X_test = X_test.reindex(columns = X_train.columns, fill_value=0) # \"0\"\n",
    "\n",
    "X_train.drop(columns=[\"Type_of_Loan\"], inplace = True)\n",
    "X_test.drop(columns=[\"Type_of_Loan\"], inplace = True)\n",
    "\n",
    "X_train.shape, X_test.shape"
   ]
  },
  {
   "cell_type": "markdown",
   "metadata": {},
   "source": [
    "## OneHotEncoder and LabelEncoder"
   ]
  },
  {
   "cell_type": "code",
   "execution_count": null,
   "metadata": {
    "execution": {
     "iopub.execute_input": "2022-09-28T19:10:55.506161Z",
     "iopub.status.busy": "2022-09-28T19:10:55.505701Z",
     "iopub.status.idle": "2022-09-28T19:10:55.67579Z",
     "shell.execute_reply": "2022-09-28T19:10:55.674697Z",
     "shell.execute_reply.started": "2022-09-28T19:10:55.506122Z"
    }
   },
   "outputs": [],
   "source": [
    "from sklearn.preprocessing import OneHotEncoder\n",
    "\n",
    "cat = X_train.select_dtypes(exclude=\"number\").columns.to_list()    \n",
    "enc = OneHotEncoder(handle_unknown=\"ignore\", sparse=False)\n",
    "\n",
    "X_train_cat = pd.DataFrame(\n",
    "    enc.fit_transform(X_train[cat]), index = X_train.index, \n",
    "    columns = enc.get_feature_names_out(cat)\n",
    ")    \n",
    "X_test_cat  = pd.DataFrame(\n",
    "    enc.transform(X_test[cat]), index = X_test.index, \n",
    "    columns = enc.get_feature_names_out(cat)\n",
    ")    \n",
    "X_train_enc = X_train_cat.join(X_train.select_dtypes(\"number\"))\n",
    "X_test_enc = X_test_cat.join(X_test.select_dtypes(\"number\"))\n",
    "\n",
    "X_train_enc.shape, X_test_enc.shape"
   ]
  },
  {
   "cell_type": "code",
   "execution_count": null,
   "metadata": {
    "execution": {
     "iopub.execute_input": "2022-09-28T19:10:55.67788Z",
     "iopub.status.busy": "2022-09-28T19:10:55.677512Z",
     "iopub.status.idle": "2022-09-28T19:10:55.684676Z",
     "shell.execute_reply": "2022-09-28T19:10:55.683679Z",
     "shell.execute_reply.started": "2022-09-28T19:10:55.677844Z"
    }
   },
   "outputs": [],
   "source": [
    "X_train_enc.columns"
   ]
  },
  {
   "cell_type": "code",
   "execution_count": null,
   "metadata": {
    "execution": {
     "iopub.execute_input": "2022-09-28T19:10:55.687093Z",
     "iopub.status.busy": "2022-09-28T19:10:55.686442Z",
     "iopub.status.idle": "2022-09-28T19:10:55.723765Z",
     "shell.execute_reply": "2022-09-28T19:10:55.722921Z",
     "shell.execute_reply.started": "2022-09-28T19:10:55.687058Z"
    }
   },
   "outputs": [],
   "source": [
    "from sklearn.preprocessing import LabelEncoder\n",
    "le = LabelEncoder()\n",
    "y_train = le.fit_transform(y_train)\n",
    "y_test  = le.transform(y_test)\n",
    "\n",
    "pd.DataFrame(y_train).value_counts().sort_index()"
   ]
  },
  {
   "cell_type": "markdown",
   "metadata": {},
   "source": [
    "## Scale data"
   ]
  },
  {
   "cell_type": "code",
   "execution_count": null,
   "metadata": {
    "execution": {
     "iopub.execute_input": "2022-09-28T19:10:55.725732Z",
     "iopub.status.busy": "2022-09-28T19:10:55.72521Z",
     "iopub.status.idle": "2022-09-28T19:10:55.816915Z",
     "shell.execute_reply": "2022-09-28T19:10:55.815927Z",
     "shell.execute_reply.started": "2022-09-28T19:10:55.725698Z"
    }
   },
   "outputs": [],
   "source": [
    "scaler = MinMaxScaler()\n",
    "\n",
    "X_train_scaled = pd.DataFrame(scaler.fit_transform(X_train_enc), columns=X_train_enc.columns)\n",
    "X_test_scaled  = pd.DataFrame(scaler.transform(X_test_enc), columns=X_test_enc.columns)"
   ]
  },
  {
   "cell_type": "markdown",
   "metadata": {},
   "source": [
    "# 01. Implement Logistic Regression Model"
   ]
  },
  {
   "cell_type": "code",
   "execution_count": null,
   "metadata": {
    "execution": {
     "iopub.execute_input": "2022-09-28T19:10:55.818833Z",
     "iopub.status.busy": "2022-09-28T19:10:55.81847Z",
     "iopub.status.idle": "2022-09-28T19:10:55.824292Z",
     "shell.execute_reply": "2022-09-28T19:10:55.823328Z",
     "shell.execute_reply.started": "2022-09-28T19:10:55.818797Z"
    }
   },
   "outputs": [],
   "source": [
    "log_model = LogisticRegression(\n",
    "    class_weight = \"balanced\",\n",
    "    random_state=random_state\n",
    ")"
   ]
  },
  {
   "cell_type": "code",
   "execution_count": null,
   "metadata": {
    "execution": {
     "iopub.execute_input": "2022-09-28T19:10:55.826274Z",
     "iopub.status.busy": "2022-09-28T19:10:55.825621Z",
     "iopub.status.idle": "2022-09-28T19:11:00.298463Z",
     "shell.execute_reply": "2022-09-28T19:11:00.297506Z",
     "shell.execute_reply.started": "2022-09-28T19:10:55.826237Z"
    }
   },
   "outputs": [],
   "source": [
    "log_model.fit(X_train_scaled, y_train)"
   ]
  },
  {
   "cell_type": "code",
   "execution_count": null,
   "metadata": {
    "execution": {
     "iopub.execute_input": "2022-09-28T19:11:00.300744Z",
     "iopub.status.busy": "2022-09-28T19:11:00.299799Z",
     "iopub.status.idle": "2022-09-28T19:11:00.540612Z",
     "shell.execute_reply": "2022-09-28T19:11:00.539328Z",
     "shell.execute_reply.started": "2022-09-28T19:11:00.300707Z"
    }
   },
   "outputs": [],
   "source": [
    "y_pred_train = log_model.predict(X_train_scaled)\n",
    "y_pred_test  = log_model.predict(X_test_scaled)\n",
    "\n",
    "print(classification_report(y_train, y_pred_train))\n",
    "print(classification_report(y_test, y_pred_test))"
   ]
  },
  {
   "cell_type": "markdown",
   "metadata": {},
   "source": [
    "## With Best Parameters (GridsearchCV)"
   ]
  },
  {
   "cell_type": "code",
   "execution_count": null,
   "metadata": {
    "execution": {
     "iopub.execute_input": "2022-09-28T19:11:00.544535Z",
     "iopub.status.busy": "2022-09-28T19:11:00.543339Z",
     "iopub.status.idle": "2022-09-28T19:11:00.553158Z",
     "shell.execute_reply": "2022-09-28T19:11:00.551847Z",
     "shell.execute_reply.started": "2022-09-28T19:11:00.544486Z"
    }
   },
   "outputs": [],
   "source": [
    "from sklearn.model_selection import GridSearchCV\n",
    "from sklearn.metrics import make_scorer\n",
    "\n",
    "model = LogisticRegression(    \n",
    "    class_weight = \"balanced\",\n",
    "    max_iter=10000,\n",
    "    random_state=random_state\n",
    ")\n",
    "param_grid = {\n",
    "    \"penalty\" : ['l1'],\n",
    "    \"C\" : [0.1],\n",
    "    \"solver\" : ['saga'], # 'liblinear', \n",
    "}\n",
    "# Identify people with low credit scores\n",
    "recall_poor = make_scorer(recall_score, average = None, labels=[1])\n",
    "grid_model_log = GridSearchCV(\n",
    "    estimator=model,\n",
    "    param_grid = param_grid, \n",
    "    scoring=recall_poor, \n",
    "    error_score=\"raise\",\n",
    "    n_jobs=-1,\n",
    "    cv=5\n",
    ") "
   ]
  },
  {
   "cell_type": "code",
   "execution_count": null,
   "metadata": {
    "execution": {
     "iopub.execute_input": "2022-09-28T19:11:00.555888Z",
     "iopub.status.busy": "2022-09-28T19:11:00.55484Z",
     "iopub.status.idle": "2022-09-28T19:11:16.714084Z",
     "shell.execute_reply": "2022-09-28T19:11:16.712961Z",
     "shell.execute_reply.started": "2022-09-28T19:11:00.555836Z"
    }
   },
   "outputs": [],
   "source": [
    "%%time\n",
    "grid_model_log.fit(X_train_scaled, y_train)"
   ]
  },
  {
   "cell_type": "code",
   "execution_count": null,
   "metadata": {
    "execution": {
     "iopub.execute_input": "2022-09-28T19:11:16.716604Z",
     "iopub.status.busy": "2022-09-28T19:11:16.715968Z",
     "iopub.status.idle": "2022-09-28T19:11:16.723933Z",
     "shell.execute_reply": "2022-09-28T19:11:16.722757Z",
     "shell.execute_reply.started": "2022-09-28T19:11:16.716565Z"
    }
   },
   "outputs": [],
   "source": [
    "grid_model_log.best_params_"
   ]
  },
  {
   "cell_type": "code",
   "execution_count": null,
   "metadata": {
    "execution": {
     "iopub.execute_input": "2022-09-28T19:11:16.72592Z",
     "iopub.status.busy": "2022-09-28T19:11:16.725454Z",
     "iopub.status.idle": "2022-09-28T19:11:16.734381Z",
     "shell.execute_reply": "2022-09-28T19:11:16.733325Z",
     "shell.execute_reply.started": "2022-09-28T19:11:16.725884Z"
    }
   },
   "outputs": [],
   "source": [
    "grid_model_log.best_score_"
   ]
  },
  {
   "cell_type": "code",
   "execution_count": null,
   "metadata": {
    "execution": {
     "iopub.execute_input": "2022-09-28T19:11:16.736166Z",
     "iopub.status.busy": "2022-09-28T19:11:16.735738Z",
     "iopub.status.idle": "2022-09-28T19:11:16.962509Z",
     "shell.execute_reply": "2022-09-28T19:11:16.961408Z",
     "shell.execute_reply.started": "2022-09-28T19:11:16.736131Z"
    }
   },
   "outputs": [],
   "source": [
    "y_pred_train = grid_model_log.predict(X_train_scaled)\n",
    "y_pred_test  = grid_model_log.predict(X_test_scaled)\n",
    "\n",
    "print(classification_report(y_train, y_pred_train))\n",
    "print(classification_report(y_test, y_pred_test))"
   ]
  },
  {
   "cell_type": "markdown",
   "metadata": {},
   "source": [
    "# 02. Implement Random Forest Classifier Model"
   ]
  },
  {
   "cell_type": "markdown",
   "metadata": {},
   "source": [
    "## OrdinalEncoder"
   ]
  },
  {
   "cell_type": "code",
   "execution_count": null,
   "metadata": {
    "execution": {
     "iopub.execute_input": "2022-09-28T19:11:16.964542Z",
     "iopub.status.busy": "2022-09-28T19:11:16.964154Z",
     "iopub.status.idle": "2022-09-28T19:11:17.110826Z",
     "shell.execute_reply": "2022-09-28T19:11:17.109918Z",
     "shell.execute_reply.started": "2022-09-28T19:11:16.964502Z"
    }
   },
   "outputs": [],
   "source": [
    "from sklearn.preprocessing import OrdinalEncoder\n",
    "\n",
    "cat = X_train.select_dtypes(exclude=\"number\").columns.to_list()    \n",
    "enc = OrdinalEncoder(handle_unknown='use_encoded_value', unknown_value=-1)\n",
    "\n",
    "X_train[cat] = enc.fit_transform(X_train[cat])\n",
    "X_test[cat] = enc.transform(X_test[cat])\n",
    "\n",
    "X_train.shape, X_test.shape"
   ]
  },
  {
   "cell_type": "markdown",
   "metadata": {},
   "source": [
    "## RandomForestClassifier"
   ]
  },
  {
   "cell_type": "code",
   "execution_count": null,
   "metadata": {
    "execution": {
     "iopub.execute_input": "2022-09-28T19:11:17.11273Z",
     "iopub.status.busy": "2022-09-28T19:11:17.112373Z",
     "iopub.status.idle": "2022-09-28T19:11:17.119421Z",
     "shell.execute_reply": "2022-09-28T19:11:17.117329Z",
     "shell.execute_reply.started": "2022-09-28T19:11:17.112694Z"
    }
   },
   "outputs": [],
   "source": [
    "from sklearn.ensemble import RandomForestClassifier\n",
    "\n",
    "rfc_model = RandomForestClassifier(\n",
    "    class_weight = 'balanced',\n",
    "    random_state=random_state\n",
    ")"
   ]
  },
  {
   "cell_type": "code",
   "execution_count": null,
   "metadata": {
    "execution": {
     "iopub.execute_input": "2022-09-28T19:11:17.121834Z",
     "iopub.status.busy": "2022-09-28T19:11:17.121229Z",
     "iopub.status.idle": "2022-09-28T19:11:42.774615Z",
     "shell.execute_reply": "2022-09-28T19:11:42.773584Z",
     "shell.execute_reply.started": "2022-09-28T19:11:17.1218Z"
    }
   },
   "outputs": [],
   "source": [
    "%%time\n",
    "rfc_model.fit(X_train, y_train)"
   ]
  },
  {
   "cell_type": "code",
   "execution_count": null,
   "metadata": {
    "execution": {
     "iopub.execute_input": "2022-09-28T19:11:42.776926Z",
     "iopub.status.busy": "2022-09-28T19:11:42.775957Z",
     "iopub.status.idle": "2022-09-28T19:11:45.84704Z",
     "shell.execute_reply": "2022-09-28T19:11:45.845883Z",
     "shell.execute_reply.started": "2022-09-28T19:11:42.776886Z"
    }
   },
   "outputs": [],
   "source": [
    "y_pred_train = rfc_model.predict(X_train)\n",
    "y_pred_test  = rfc_model.predict(X_test)\n",
    "\n",
    "print(classification_report(y_train, y_pred_train))\n",
    "print(classification_report(y_test, y_pred_test))"
   ]
  },
  {
   "cell_type": "markdown",
   "metadata": {},
   "source": [
    "## With Best Parameters (GridsearchCV)"
   ]
  },
  {
   "cell_type": "code",
   "execution_count": null,
   "metadata": {
    "execution": {
     "iopub.execute_input": "2022-09-28T19:11:45.849276Z",
     "iopub.status.busy": "2022-09-28T19:11:45.848888Z",
     "iopub.status.idle": "2022-09-28T19:11:45.856491Z",
     "shell.execute_reply": "2022-09-28T19:11:45.855415Z",
     "shell.execute_reply.started": "2022-09-28T19:11:45.849237Z"
    }
   },
   "outputs": [],
   "source": [
    "from sklearn.model_selection import GridSearchCV\n",
    "\n",
    "model = RandomForestClassifier(\n",
    "    class_weight = 'balanced',\n",
    "    random_state=random_state\n",
    ")\n",
    "param_grid = {\n",
    "    'max_depth': [3], \n",
    "    'n_estimators': [10],\n",
    "    'max_features': [None],\n",
    "}\n",
    "# Identify people with low credit scores\n",
    "recall_poor = make_scorer(recall_score, average = None, labels=[1])\n",
    "grid_model_rfc = GridSearchCV(\n",
    "    estimator=model,\n",
    "    param_grid = param_grid, \n",
    "    error_score=\"raise\",\n",
    "    scoring=recall_poor,\n",
    "    refit=True,\n",
    "#     verbose=2,\n",
    "    n_jobs=-1,\n",
    "    cv=5,\n",
    ")"
   ]
  },
  {
   "cell_type": "code",
   "execution_count": null,
   "metadata": {
    "execution": {
     "iopub.execute_input": "2022-09-28T19:11:45.858799Z",
     "iopub.status.busy": "2022-09-28T19:11:45.858113Z",
     "iopub.status.idle": "2022-09-28T19:11:56.438357Z",
     "shell.execute_reply": "2022-09-28T19:11:56.437362Z",
     "shell.execute_reply.started": "2022-09-28T19:11:45.858761Z"
    }
   },
   "outputs": [],
   "source": [
    "%%time\n",
    "grid_model_rfc.fit(X_train, y_train)"
   ]
  },
  {
   "cell_type": "code",
   "execution_count": null,
   "metadata": {
    "execution": {
     "iopub.execute_input": "2022-09-28T19:11:56.440612Z",
     "iopub.status.busy": "2022-09-28T19:11:56.439951Z",
     "iopub.status.idle": "2022-09-28T19:11:56.447459Z",
     "shell.execute_reply": "2022-09-28T19:11:56.446367Z",
     "shell.execute_reply.started": "2022-09-28T19:11:56.440575Z"
    }
   },
   "outputs": [],
   "source": [
    "grid_model_rfc.best_params_"
   ]
  },
  {
   "cell_type": "code",
   "execution_count": null,
   "metadata": {
    "execution": {
     "iopub.execute_input": "2022-09-28T19:11:56.449568Z",
     "iopub.status.busy": "2022-09-28T19:11:56.449167Z",
     "iopub.status.idle": "2022-09-28T19:11:56.459097Z",
     "shell.execute_reply": "2022-09-28T19:11:56.458013Z",
     "shell.execute_reply.started": "2022-09-28T19:11:56.449533Z"
    }
   },
   "outputs": [],
   "source": [
    "grid_model_rfc.best_score_"
   ]
  },
  {
   "cell_type": "code",
   "execution_count": null,
   "metadata": {
    "execution": {
     "iopub.execute_input": "2022-09-28T19:11:56.461087Z",
     "iopub.status.busy": "2022-09-28T19:11:56.460675Z",
     "iopub.status.idle": "2022-09-28T19:11:56.665193Z",
     "shell.execute_reply": "2022-09-28T19:11:56.664154Z",
     "shell.execute_reply.started": "2022-09-28T19:11:56.461053Z"
    }
   },
   "outputs": [],
   "source": [
    "y_pred_train = grid_model_rfc.predict(X_train)\n",
    "y_pred_test  = grid_model_rfc.predict(X_test)\n",
    "\n",
    "print(classification_report(y_train, y_pred_train))\n",
    "print(classification_report(y_test, y_pred_test))"
   ]
  },
  {
   "cell_type": "markdown",
   "metadata": {},
   "source": [
    "# 03. Implement XGBoost Classifier Model"
   ]
  },
  {
   "cell_type": "code",
   "execution_count": null,
   "metadata": {
    "execution": {
     "iopub.execute_input": "2022-09-28T19:11:56.667227Z",
     "iopub.status.busy": "2022-09-28T19:11:56.666833Z",
     "iopub.status.idle": "2022-09-28T19:11:56.673093Z",
     "shell.execute_reply": "2022-09-28T19:11:56.672019Z",
     "shell.execute_reply.started": "2022-09-28T19:11:56.667177Z"
    }
   },
   "outputs": [],
   "source": [
    "from xgboost import XGBClassifier\n",
    "\n",
    "xgb_model = XGBClassifier(\n",
    "    random_state=random_state,\n",
    ")"
   ]
  },
  {
   "cell_type": "code",
   "execution_count": null,
   "metadata": {
    "execution": {
     "iopub.execute_input": "2022-09-28T19:11:56.675414Z",
     "iopub.status.busy": "2022-09-28T19:11:56.674434Z",
     "iopub.status.idle": "2022-09-28T19:11:56.697135Z",
     "shell.execute_reply": "2022-09-28T19:11:56.695978Z",
     "shell.execute_reply.started": "2022-09-28T19:11:56.675376Z"
    }
   },
   "outputs": [],
   "source": [
    "from sklearn.utils import class_weight\n",
    "classes_weights = class_weight.compute_sample_weight(class_weight='balanced', y=y_train)\n",
    "classes_weights"
   ]
  },
  {
   "cell_type": "code",
   "execution_count": null,
   "metadata": {
    "execution": {
     "iopub.execute_input": "2022-09-28T19:11:56.699222Z",
     "iopub.status.busy": "2022-09-28T19:11:56.698773Z",
     "iopub.status.idle": "2022-09-28T19:11:56.718688Z",
     "shell.execute_reply": "2022-09-28T19:11:56.717515Z",
     "shell.execute_reply.started": "2022-09-28T19:11:56.69918Z"
    }
   },
   "outputs": [],
   "source": [
    "comp = pd.DataFrame(classes_weights)\n",
    "\n",
    "comp[\"label\"] = pd.DataFrame(y_train).reset_index(drop=True)\n",
    "comp.groupby(\"label\")[0].value_counts()"
   ]
  },
  {
   "cell_type": "code",
   "execution_count": null,
   "metadata": {
    "execution": {
     "iopub.execute_input": "2022-09-28T19:11:56.720869Z",
     "iopub.status.busy": "2022-09-28T19:11:56.720486Z",
     "iopub.status.idle": "2022-09-28T19:12:41.859567Z",
     "shell.execute_reply": "2022-09-28T19:12:41.858776Z",
     "shell.execute_reply.started": "2022-09-28T19:11:56.720832Z"
    }
   },
   "outputs": [],
   "source": [
    "%%time\n",
    "xgb_model.fit(\n",
    "    X_train, y_train, \n",
    "    sample_weight=classes_weights\n",
    ")\n",
    "# weight parameter in XGBoost is per instance not per class."
   ]
  },
  {
   "cell_type": "code",
   "execution_count": null,
   "metadata": {
    "execution": {
     "iopub.execute_input": "2022-09-28T19:12:41.863185Z",
     "iopub.status.busy": "2022-09-28T19:12:41.862299Z",
     "iopub.status.idle": "2022-09-28T19:12:42.502705Z",
     "shell.execute_reply": "2022-09-28T19:12:42.501429Z",
     "shell.execute_reply.started": "2022-09-28T19:12:41.863146Z"
    }
   },
   "outputs": [],
   "source": [
    "y_pred_train = xgb_model.predict(X_train)\n",
    "y_pred_test  = xgb_model.predict(X_test)\n",
    "\n",
    "print(classification_report(y_train, y_pred_train))\n",
    "print(classification_report(y_test, y_pred_test))"
   ]
  },
  {
   "cell_type": "markdown",
   "metadata": {},
   "source": [
    "## With Best Parameters (GridsearchCV)"
   ]
  },
  {
   "cell_type": "code",
   "execution_count": null,
   "metadata": {
    "execution": {
     "iopub.execute_input": "2022-09-28T19:12:42.504775Z",
     "iopub.status.busy": "2022-09-28T19:12:42.504416Z",
     "iopub.status.idle": "2022-09-28T19:12:42.512433Z",
     "shell.execute_reply": "2022-09-28T19:12:42.51027Z",
     "shell.execute_reply.started": "2022-09-28T19:12:42.50473Z"
    }
   },
   "outputs": [],
   "source": [
    "from sklearn.model_selection import GridSearchCV\n",
    "\n",
    "model = XGBClassifier(\n",
    "    random_state=random_state\n",
    ")\n",
    "param_grid = {\n",
    "    'n_estimators':[50, 100],\n",
    "}\n",
    "# Identify people with low credit scores\n",
    "recall_poor = make_scorer(recall_score, average = None, labels=[1])\n",
    "grid_model_xgb = GridSearchCV(\n",
    "    estimator=model,\n",
    "    param_grid = param_grid, \n",
    "    error_score=\"raise\",\n",
    "    scoring=recall_poor,\n",
    "    refit=True,\n",
    "    n_jobs=-1\n",
    ")"
   ]
  },
  {
   "cell_type": "code",
   "execution_count": null,
   "metadata": {
    "execution": {
     "iopub.execute_input": "2022-09-28T19:12:42.515168Z",
     "iopub.status.busy": "2022-09-28T19:12:42.514316Z",
     "iopub.status.idle": "2022-09-28T19:18:14.655628Z",
     "shell.execute_reply": "2022-09-28T19:18:14.654718Z",
     "shell.execute_reply.started": "2022-09-28T19:12:42.515118Z"
    }
   },
   "outputs": [],
   "source": [
    "%%time\n",
    "grid_model_xgb.fit(\n",
    "    X_train, y_train, \n",
    "    sample_weight=classes_weights\n",
    ")"
   ]
  },
  {
   "cell_type": "code",
   "execution_count": null,
   "metadata": {
    "execution": {
     "iopub.execute_input": "2022-09-28T19:18:14.667533Z",
     "iopub.status.busy": "2022-09-28T19:18:14.667221Z",
     "iopub.status.idle": "2022-09-28T19:18:14.677488Z",
     "shell.execute_reply": "2022-09-28T19:18:14.676278Z",
     "shell.execute_reply.started": "2022-09-28T19:18:14.667504Z"
    }
   },
   "outputs": [],
   "source": [
    "grid_model_xgb.best_params_"
   ]
  },
  {
   "cell_type": "code",
   "execution_count": null,
   "metadata": {
    "execution": {
     "iopub.execute_input": "2022-09-28T19:18:14.679708Z",
     "iopub.status.busy": "2022-09-28T19:18:14.679234Z",
     "iopub.status.idle": "2022-09-28T19:18:14.685843Z",
     "shell.execute_reply": "2022-09-28T19:18:14.684891Z",
     "shell.execute_reply.started": "2022-09-28T19:18:14.679671Z"
    }
   },
   "outputs": [],
   "source": [
    "grid_model_xgb.best_score_"
   ]
  },
  {
   "cell_type": "code",
   "execution_count": null,
   "metadata": {
    "execution": {
     "iopub.execute_input": "2022-09-28T19:18:14.687858Z",
     "iopub.status.busy": "2022-09-28T19:18:14.687243Z",
     "iopub.status.idle": "2022-09-28T19:18:15.314327Z",
     "shell.execute_reply": "2022-09-28T19:18:15.312596Z",
     "shell.execute_reply.started": "2022-09-28T19:18:14.687818Z"
    }
   },
   "outputs": [],
   "source": [
    "y_pred_train = grid_model_xgb.predict(X_train)\n",
    "y_pred_test  = grid_model_xgb.predict(X_test)\n",
    "\n",
    "print(classification_report(y_train, y_pred_train))\n",
    "print(classification_report(y_test, y_pred_test))"
   ]
  },
  {
   "cell_type": "markdown",
   "metadata": {},
   "source": [
    "# Compare The Models"
   ]
  },
  {
   "cell_type": "code",
   "execution_count": null,
   "metadata": {
    "execution": {
     "iopub.execute_input": "2022-09-28T19:18:15.316178Z",
     "iopub.status.busy": "2022-09-28T19:18:15.315732Z",
     "iopub.status.idle": "2022-09-28T19:18:15.977249Z",
     "shell.execute_reply": "2022-09-28T19:18:15.976391Z",
     "shell.execute_reply.started": "2022-09-28T19:18:15.316139Z"
    }
   },
   "outputs": [],
   "source": [
    "from yellowbrick.classifier import ROCAUC\n",
    "model = grid_model_log\n",
    "\n",
    "visualizer = ROCAUC(model, encoder={0: 'Good', 1: 'Poor', 2: 'Standart'})\n",
    "visualizer.fit(X_train_scaled, y_train)        # Fit the training data to the visualizer\n",
    "visualizer.score(X_train_scaled, y_train)        # Evaluate the model on the test data\n",
    "visualizer.show(); "
   ]
  },
  {
   "cell_type": "code",
   "execution_count": null,
   "metadata": {
    "execution": {
     "iopub.execute_input": "2022-09-28T19:18:15.979044Z",
     "iopub.status.busy": "2022-09-28T19:18:15.978607Z",
     "iopub.status.idle": "2022-09-28T19:18:16.466385Z",
     "shell.execute_reply": "2022-09-28T19:18:16.465491Z",
     "shell.execute_reply.started": "2022-09-28T19:18:15.979008Z"
    }
   },
   "outputs": [],
   "source": [
    "from yellowbrick.classifier import ROCAUC\n",
    "model = grid_model_rfc\n",
    "\n",
    "visualizer = ROCAUC(model, encoder={0: 'Good', 1: 'Poor', 2: 'Standart'})\n",
    "visualizer.fit(X_train, y_train)        # Fit the training data to the visualizer\n",
    "visualizer.score(X_train, y_train)        # Evaluate the model on the test data\n",
    "visualizer.show(); "
   ]
  },
  {
   "cell_type": "code",
   "execution_count": null,
   "metadata": {
    "execution": {
     "iopub.execute_input": "2022-09-28T19:18:16.468493Z",
     "iopub.status.busy": "2022-09-28T19:18:16.467863Z",
     "iopub.status.idle": "2022-09-28T19:18:17.659184Z",
     "shell.execute_reply": "2022-09-28T19:18:17.658286Z",
     "shell.execute_reply.started": "2022-09-28T19:18:16.468452Z"
    }
   },
   "outputs": [],
   "source": [
    "from yellowbrick.classifier import ROCAUC\n",
    "model = grid_model_xgb\n",
    "\n",
    "visualizer = ROCAUC(model, encoder={0: 'Good', 1: 'Poor', 2: 'Standart'})\n",
    "visualizer.fit(X_train, y_train)        # Fit the training data to the visualizer\n",
    "visualizer.score(X_train, y_train)        # Evaluate the model on the test data\n",
    "visualizer.show(); "
   ]
  },
  {
   "cell_type": "code",
   "execution_count": null,
   "metadata": {
    "execution": {
     "iopub.execute_input": "2022-09-28T19:18:17.661477Z",
     "iopub.status.busy": "2022-09-28T19:18:17.660809Z",
     "iopub.status.idle": "2022-09-28T19:18:18.338128Z",
     "shell.execute_reply": "2022-09-28T19:18:18.337224Z",
     "shell.execute_reply.started": "2022-09-28T19:18:17.661437Z"
    }
   },
   "outputs": [],
   "source": [
    "plot_confusion_matrix(grid_model_rfc, X_test, y_test);\n",
    "plot_confusion_matrix(grid_model_xgb, X_test, y_test);"
   ]
  },
  {
   "cell_type": "markdown",
   "metadata": {},
   "source": [
    "# 04. Future Importance XGBoost \n",
    "- Permutation Based Feature Importance (with scikit-learn)"
   ]
  },
  {
   "cell_type": "code",
   "execution_count": null,
   "metadata": {
    "execution": {
     "iopub.execute_input": "2022-09-28T19:18:18.340377Z",
     "iopub.status.busy": "2022-09-28T19:18:18.339713Z",
     "iopub.status.idle": "2022-09-28T19:18:18.34876Z",
     "shell.execute_reply": "2022-09-28T19:18:18.347608Z",
     "shell.execute_reply.started": "2022-09-28T19:18:18.340322Z"
    }
   },
   "outputs": [],
   "source": [
    "# xgb_model has best scorer default parameters\n",
    "xgb_model.feature_importances_"
   ]
  },
  {
   "cell_type": "code",
   "execution_count": null,
   "metadata": {
    "execution": {
     "iopub.execute_input": "2022-09-28T19:18:18.351143Z",
     "iopub.status.busy": "2022-09-28T19:18:18.350183Z",
     "iopub.status.idle": "2022-09-28T19:18:18.76486Z",
     "shell.execute_reply": "2022-09-28T19:18:18.763985Z",
     "shell.execute_reply.started": "2022-09-28T19:18:18.351108Z"
    }
   },
   "outputs": [],
   "source": [
    "plt.figure(figsize=(14,8))\n",
    "plt.barh(X_test.columns, xgb_model.feature_importances_)"
   ]
  },
  {
   "cell_type": "code",
   "execution_count": null,
   "metadata": {
    "execution": {
     "iopub.execute_input": "2022-09-28T19:18:18.767182Z",
     "iopub.status.busy": "2022-09-28T19:18:18.766521Z",
     "iopub.status.idle": "2022-09-28T19:18:34.923786Z",
     "shell.execute_reply": "2022-09-28T19:18:34.922929Z",
     "shell.execute_reply.started": "2022-09-28T19:18:18.767143Z"
    }
   },
   "outputs": [],
   "source": [
    "from sklearn.inspection import permutation_importance\n",
    "\n",
    "perm_importance = permutation_importance(xgb_model, X_test, y_test)\n",
    "perm_importance"
   ]
  },
  {
   "cell_type": "code",
   "execution_count": null,
   "metadata": {
    "execution": {
     "iopub.execute_input": "2022-09-28T19:18:34.929296Z",
     "iopub.status.busy": "2022-09-28T19:18:34.927428Z",
     "iopub.status.idle": "2022-09-28T19:18:35.348992Z",
     "shell.execute_reply": "2022-09-28T19:18:35.348089Z",
     "shell.execute_reply.started": "2022-09-28T19:18:34.929259Z"
    }
   },
   "outputs": [],
   "source": [
    "sorted_idx = perm_importance.importances_mean.argsort()\n",
    "plt.figure(figsize=(14,8))\n",
    "plt.barh(X_test.columns[sorted_idx], perm_importance.importances_mean[sorted_idx])\n",
    "plt.xlabel(\"Permutation Importance\")"
   ]
  },
  {
   "cell_type": "code",
   "execution_count": null,
   "metadata": {
    "execution": {
     "iopub.execute_input": "2022-09-28T19:18:35.350747Z",
     "iopub.status.busy": "2022-09-28T19:18:35.350286Z",
     "iopub.status.idle": "2022-09-28T19:18:35.357735Z",
     "shell.execute_reply": "2022-09-28T19:18:35.356769Z",
     "shell.execute_reply.started": "2022-09-28T19:18:35.35071Z"
    }
   },
   "outputs": [],
   "source": [
    "X_test.columns"
   ]
  },
  {
   "cell_type": "markdown",
   "metadata": {},
   "source": [
    "# 05. Final Model"
   ]
  },
  {
   "cell_type": "code",
   "execution_count": null,
   "metadata": {
    "execution": {
     "iopub.execute_input": "2022-09-28T19:18:35.360031Z",
     "iopub.status.busy": "2022-09-28T19:18:35.359361Z",
     "iopub.status.idle": "2022-09-28T19:18:35.386902Z",
     "shell.execute_reply": "2022-09-28T19:18:35.385642Z",
     "shell.execute_reply.started": "2022-09-28T19:18:35.359996Z"
    }
   },
   "outputs": [],
   "source": [
    "# we selected 8 features for final model\n",
    "df_final = df[[\n",
    "    'Credit_Mix', 'Interest_Rate', 'Outstanding_Debt', 'Delay_from_due_date', \n",
    "    'Total_EMI_per_month', 'Changed_Credit_Limit', 'Monthly_Inhand_Salary', 'Annual_Income',\n",
    "    'Credit_Score'\n",
    "]]\n",
    "df_final"
   ]
  },
  {
   "cell_type": "code",
   "execution_count": null,
   "metadata": {
    "execution": {
     "iopub.execute_input": "2022-09-28T19:18:35.389117Z",
     "iopub.status.busy": "2022-09-28T19:18:35.38863Z",
     "iopub.status.idle": "2022-09-28T19:18:35.411314Z",
     "shell.execute_reply": "2022-09-28T19:18:35.410489Z",
     "shell.execute_reply.started": "2022-09-28T19:18:35.389079Z"
    }
   },
   "outputs": [],
   "source": [
    "X = df_final.drop(columns='Credit_Score')\n",
    "y = df_final['Credit_Score']"
   ]
  },
  {
   "cell_type": "code",
   "execution_count": null,
   "metadata": {
    "execution": {
     "iopub.execute_input": "2022-09-28T19:18:35.414306Z",
     "iopub.status.busy": "2022-09-28T19:18:35.412431Z",
     "iopub.status.idle": "2022-09-28T19:18:35.454219Z",
     "shell.execute_reply": "2022-09-28T19:18:35.453216Z",
     "shell.execute_reply.started": "2022-09-28T19:18:35.414279Z"
    }
   },
   "outputs": [],
   "source": [
    "cat = X.select_dtypes(exclude=\"number\").columns.to_list()    \n",
    "enc = OrdinalEncoder(handle_unknown='use_encoded_value', unknown_value=-1)\n",
    "\n",
    "X[cat] = enc.fit_transform(X[cat])\n",
    "\n",
    "X.shape"
   ]
  },
  {
   "cell_type": "code",
   "execution_count": null,
   "metadata": {
    "execution": {
     "iopub.execute_input": "2022-09-28T19:18:35.456077Z",
     "iopub.status.busy": "2022-09-28T19:18:35.455668Z",
     "iopub.status.idle": "2022-09-28T19:18:35.480824Z",
     "shell.execute_reply": "2022-09-28T19:18:35.479895Z",
     "shell.execute_reply.started": "2022-09-28T19:18:35.456042Z"
    }
   },
   "outputs": [],
   "source": [
    "le = LabelEncoder()\n",
    "y = le.fit_transform(y)"
   ]
  },
  {
   "cell_type": "code",
   "execution_count": null,
   "metadata": {
    "execution": {
     "iopub.execute_input": "2022-09-28T19:18:35.483704Z",
     "iopub.status.busy": "2022-09-28T19:18:35.48308Z",
     "iopub.status.idle": "2022-09-28T19:18:35.506506Z",
     "shell.execute_reply": "2022-09-28T19:18:35.505576Z",
     "shell.execute_reply.started": "2022-09-28T19:18:35.483668Z"
    }
   },
   "outputs": [],
   "source": [
    "classes_weights = class_weight.compute_sample_weight(class_weight='balanced', y=y)\n",
    "classes_weights"
   ]
  },
  {
   "cell_type": "code",
   "execution_count": null,
   "metadata": {
    "execution": {
     "iopub.execute_input": "2022-09-28T19:18:35.508207Z",
     "iopub.status.busy": "2022-09-28T19:18:35.50786Z",
     "iopub.status.idle": "2022-09-28T19:18:35.513163Z",
     "shell.execute_reply": "2022-09-28T19:18:35.511955Z",
     "shell.execute_reply.started": "2022-09-28T19:18:35.508173Z"
    }
   },
   "outputs": [],
   "source": [
    "final_model = XGBClassifier(\n",
    "    random_state=random_state,\n",
    ")"
   ]
  },
  {
   "cell_type": "code",
   "execution_count": null,
   "metadata": {
    "execution": {
     "iopub.execute_input": "2022-09-28T19:18:35.515224Z",
     "iopub.status.busy": "2022-09-28T19:18:35.514845Z",
     "iopub.status.idle": "2022-09-28T19:18:52.925281Z",
     "shell.execute_reply": "2022-09-28T19:18:52.924512Z",
     "shell.execute_reply.started": "2022-09-28T19:18:35.51519Z"
    }
   },
   "outputs": [],
   "source": [
    "%%time\n",
    "final_model.fit(\n",
    "    X, y, \n",
    "    sample_weight=classes_weights\n",
    ")"
   ]
  },
  {
   "cell_type": "code",
   "execution_count": null,
   "metadata": {
    "execution": {
     "iopub.execute_input": "2022-09-28T19:18:52.92963Z",
     "iopub.status.busy": "2022-09-28T19:18:52.928556Z",
     "iopub.status.idle": "2022-09-28T19:18:53.477668Z",
     "shell.execute_reply": "2022-09-28T19:18:53.476586Z",
     "shell.execute_reply.started": "2022-09-28T19:18:52.929589Z"
    }
   },
   "outputs": [],
   "source": [
    "y_pred = final_model.predict(X)\n",
    "\n",
    "print(classification_report(y, y_pred))"
   ]
  },
  {
   "cell_type": "code",
   "execution_count": null,
   "metadata": {
    "execution": {
     "iopub.execute_input": "2022-09-28T19:18:53.479615Z",
     "iopub.status.busy": "2022-09-28T19:18:53.47901Z",
     "iopub.status.idle": "2022-09-28T19:18:53.494452Z",
     "shell.execute_reply": "2022-09-28T19:18:53.493272Z",
     "shell.execute_reply.started": "2022-09-28T19:18:53.479577Z"
    }
   },
   "outputs": [],
   "source": [
    "mean_human = {\n",
    " 'Credit_Mix': 'Standard',\n",
    " 'Interest_Rate': 14,\n",
    " 'Outstanding_Debt': 1426,\n",
    " 'Delay_from_due_date': 21,\n",
    " 'Total_EMI_per_month': 107,\n",
    " 'Changed_Credit_Limit': 10,\n",
    " 'Monthly_Inhand_Salary': 4197,\n",
    " 'Annual_Income': 50505,\n",
    "}\n",
    "mean_human = pd.DataFrame([mean_human])\n",
    "mean_human[cat] = enc.transform(mean_human[cat])\n",
    "mean_human"
   ]
  },
  {
   "cell_type": "code",
   "execution_count": null,
   "metadata": {
    "execution": {
     "iopub.execute_input": "2022-09-28T19:18:53.496807Z",
     "iopub.status.busy": "2022-09-28T19:18:53.496167Z",
     "iopub.status.idle": "2022-09-28T19:18:53.509145Z",
     "shell.execute_reply": "2022-09-28T19:18:53.508398Z",
     "shell.execute_reply.started": "2022-09-28T19:18:53.496769Z"
    }
   },
   "outputs": [],
   "source": [
    "predict = final_model.predict(mean_human)\n",
    "predict, le.inverse_transform(predict)"
   ]
  },
  {
   "cell_type": "markdown",
   "metadata": {},
   "source": [
    "# 06. Prepare Model Deployment"
   ]
  },
  {
   "cell_type": "code",
   "execution_count": null,
   "metadata": {
    "execution": {
     "iopub.execute_input": "2022-09-28T19:18:53.514163Z",
     "iopub.status.busy": "2022-09-28T19:18:53.511524Z",
     "iopub.status.idle": "2022-09-28T19:18:53.527575Z",
     "shell.execute_reply": "2022-09-28T19:18:53.526712Z",
     "shell.execute_reply.started": "2022-09-28T19:18:53.514131Z"
    }
   },
   "outputs": [],
   "source": [
    "import pickle\n",
    "pickle.dump(final_model, open(\"final_model_credit_score_pred\", 'wb'))"
   ]
  }
 ],
 "metadata": {
  "kernelspec": {
   "display_name": "Python 3 (ipykernel)",
   "language": "python",
   "name": "python3"
  },
  "language_info": {
   "codemirror_mode": {
    "name": "ipython",
    "version": 3
   },
   "file_extension": ".py",
   "mimetype": "text/x-python",
   "name": "python",
   "nbconvert_exporter": "python",
   "pygments_lexer": "ipython3",
   "version": "3.9.12"
  }
 },
 "nbformat": 4,
 "nbformat_minor": 4
}
